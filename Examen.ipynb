{
 "cells": [
  {
   "cell_type": "markdown",
   "metadata": {
    "toc": true
   },
   "source": [
    "<h1>Table of Contents<span class=\"tocSkip\"></span></h1>\n",
    "<div class=\"toc\"><ul class=\"toc-item\"><li><span><a href=\"#Teorica\" data-toc-modified-id=\"Teorica-1\"><span class=\"toc-item-num\">1&nbsp;&nbsp;</span>Teorica</a></span></li><li><span><a href=\"#Parte-practica\" data-toc-modified-id=\"Parte-practica-2\"><span class=\"toc-item-num\">2&nbsp;&nbsp;</span>Parte practica</a></span><ul class=\"toc-item\"><li><span><a href=\"#Carga-del-datset\" data-toc-modified-id=\"Carga-del-datset-2.1\"><span class=\"toc-item-num\">2.1&nbsp;&nbsp;</span>Carga del datset</a></span></li><li><span><a href=\"#Analisis-Exploratorio\" data-toc-modified-id=\"Analisis-Exploratorio-2.2\"><span class=\"toc-item-num\">2.2&nbsp;&nbsp;</span>Analisis Exploratorio</a></span><ul class=\"toc-item\"><li><span><a href=\"#Numero-de-llamadas-por-dia\" data-toc-modified-id=\"Numero-de-llamadas-por-dia-2.2.1\"><span class=\"toc-item-num\">2.2.1&nbsp;&nbsp;</span>Numero de llamadas por dia</a></span></li><li><span><a href=\"#Numero-de-llamadas-por-topico\" data-toc-modified-id=\"Numero-de-llamadas-por-topico-2.2.2\"><span class=\"toc-item-num\">2.2.2&nbsp;&nbsp;</span>Numero de llamadas por topico</a></span></li><li><span><a href=\"#¿A-que-hora-hay-mas-llamadas?\" data-toc-modified-id=\"¿A-que-hora-hay-mas-llamadas?-2.2.3\"><span class=\"toc-item-num\">2.2.3&nbsp;&nbsp;</span>¿A que hora hay mas llamadas?</a></span></li><li><span><a href=\"#Que-dia-hay-mas-llamadas\" data-toc-modified-id=\"Que-dia-hay-mas-llamadas-2.2.4\"><span class=\"toc-item-num\">2.2.4&nbsp;&nbsp;</span>Que dia hay mas llamadas</a></span></li><li><span><a href=\"#DIa-de-la-semana-con-mas-llamadas\" data-toc-modified-id=\"DIa-de-la-semana-con-mas-llamadas-2.2.5\"><span class=\"toc-item-num\">2.2.5&nbsp;&nbsp;</span>DIa de la semana con mas llamadas</a></span></li><li><span><a href=\"#Horario-Godin\" data-toc-modified-id=\"Horario-Godin-2.2.6\"><span class=\"toc-item-num\">2.2.6&nbsp;&nbsp;</span>Horario Godin</a></span></li><li><span><a href=\"#thumbsUpCount\" data-toc-modified-id=\"thumbsUpCount-2.2.7\"><span class=\"toc-item-num\">2.2.7&nbsp;&nbsp;</span>thumbsUpCount</a></span></li><li><span><a href=\"#Varibale-target\" data-toc-modified-id=\"Varibale-target-2.2.8\"><span class=\"toc-item-num\">2.2.8&nbsp;&nbsp;</span>Varibale target</a></span></li><li><span><a href=\"#Llamadas-duplicadas\" data-toc-modified-id=\"Llamadas-duplicadas-2.2.9\"><span class=\"toc-item-num\">2.2.9&nbsp;&nbsp;</span>Llamadas duplicadas</a></span></li><li><span><a href=\"#Features\" data-toc-modified-id=\"Features-2.2.10\"><span class=\"toc-item-num\">2.2.10&nbsp;&nbsp;</span>Features</a></span><ul class=\"toc-item\"><li><span><a href=\"#Valores-nulos\" data-toc-modified-id=\"Valores-nulos-2.2.10.1\"><span class=\"toc-item-num\">2.2.10.1&nbsp;&nbsp;</span>Valores nulos</a></span></li></ul></li><li><span><a href=\"#Target\" data-toc-modified-id=\"Target-2.2.11\"><span class=\"toc-item-num\">2.2.11&nbsp;&nbsp;</span>Target</a></span></li></ul></li><li><span><a href=\"#Definir-variable-tgt\" data-toc-modified-id=\"Definir-variable-tgt-2.3\"><span class=\"toc-item-num\">2.3&nbsp;&nbsp;</span>Definir variable tgt</a></span></li><li><span><a href=\"#Logistic-Regression\" data-toc-modified-id=\"Logistic-Regression-2.4\"><span class=\"toc-item-num\">2.4&nbsp;&nbsp;</span>Logistic Regression</a></span><ul class=\"toc-item\"><li><ul class=\"toc-item\"><li><span><a href=\"#Decision-tree\" data-toc-modified-id=\"Decision-tree-2.4.0.1\"><span class=\"toc-item-num\">2.4.0.1&nbsp;&nbsp;</span>Decision tree</a></span></li></ul></li><li><span><a href=\"#Random-Forest\" data-toc-modified-id=\"Random-Forest-2.4.1\"><span class=\"toc-item-num\">2.4.1&nbsp;&nbsp;</span>Random Forest</a></span></li></ul></li><li><span><a href=\"#Bootstrap\" data-toc-modified-id=\"Bootstrap-2.5\"><span class=\"toc-item-num\">2.5&nbsp;&nbsp;</span>Bootstrap</a></span></li></ul></li></ul></div>"
   ]
  },
  {
   "cell_type": "markdown",
   "metadata": {},
   "source": [
    "# Teorica"
   ]
  },
  {
   "cell_type": "markdown",
   "metadata": {},
   "source": [
    "**Si tu modelo tiene un buen performance en el set de datos de entrenamiento pero no generaliza adecuadamente\n",
    "a nuevas observaciones, ¿Qué podría estar pasando? Nombre al menos dos posibles soluciones**\n",
    "\n",
    "R: Esta sobreajustando, o los nuevos datos son totalmente diferentes con los entrenado\n",
    "\n"
   ]
  },
  {
   "cell_type": "markdown",
   "metadata": {},
   "source": [
    "**Para un ensamble de modelos ¿Cuál es la diferencia entre votación dura y suave?**\n",
    "\n",
    "R: La votacion dura toma el valor que mas se repite y la sueva saca promedio de la proba"
   ]
  },
  {
   "cell_type": "markdown",
   "metadata": {},
   "source": [
    "**¿Qué hace que los ensambles llamados Extra-trees tengan más elementos aleatorios que un bosque aleatorio?\n",
    "¿Qué beneficios tienen estos elementos aleatorios extra? ¿Qué modelo es más rápido de ejecutar, un Extra-tree o\n",
    "un bosque aleatorio?**\n",
    "\n",
    "R: que el threshold es aleatorio"
   ]
  },
  {
   "cell_type": "markdown",
   "metadata": {},
   "source": [
    "**¿Cuál es la idea fundamental detrás de un modelo de máquina de soporte vectorial?**\n",
    "\n",
    "R:"
   ]
  },
  {
   "cell_type": "markdown",
   "metadata": {},
   "source": [
    "**¿A qué llamamos vector de soporte?**\n",
    "\n",
    "R:"
   ]
  },
  {
   "cell_type": "markdown",
   "metadata": {},
   "source": [
    "**Suponga que está utilizando un modelo de regresión lineal con un set de datos aumentado utilizando un\n",
    "polinomio de grado M. Graficas las curvas de aprendizaje y notas un gran gap entre la curva de error en el set de\n",
    "entrenamiento y la curva de error en el set de validación. ¿Qué está pasando? Menciona al menos dos soluciones**\n",
    "\n",
    "R: "
   ]
  },
  {
   "cell_type": "markdown",
   "metadata": {},
   "source": [
    "**Suponga que está utilizando un modelo de regresión Ridge. Notas que el error en el set de entrenamiento es muy\n",
    "similar al error en el set de validación. Sin embargo, dicho error es elevado. ¿Dirías que el modelo sufre de alto\n",
    "sesgo o alta varianza? ¿Deberías de incrementar el valor del parámetro regularizador alfa o reducirlo?**\n",
    "\n",
    "R:"
   ]
  },
  {
   "cell_type": "markdown",
   "metadata": {},
   "source": [
    "**¿Por qué sería mejor usar?**\n",
    "* Una regresión Ridge en lugar de una regresión lineal simple\n",
    "* Una regresión Lasso en lugar de una regresión Ridge\n",
    "* Una red elástica en lugar de una regresión Lasso\n",
    "\n",
    "R:"
   ]
  },
  {
   "cell_type": "markdown",
   "metadata": {},
   "source": [
    "**Si un árbol de decisión presenta sobreajuste de datos, ¿Es una buena idea intentar decrementar el valor del\n",
    "parámetro max_depth (Piensa que estás utilizando el modelo de la librería Sklearn)?**\n",
    "\n",
    "R:"
   ]
  },
  {
   "cell_type": "markdown",
   "metadata": {},
   "source": [
    "# Parte practica"
   ]
  },
  {
   "cell_type": "markdown",
   "metadata": {},
   "source": [
    "## Carga del datset"
   ]
  },
  {
   "cell_type": "code",
   "execution_count": 6,
   "metadata": {
    "ExecuteTime": {
     "end_time": "2022-03-29T01:06:26.099913Z",
     "start_time": "2022-03-29T01:06:26.092121Z"
    }
   },
   "outputs": [],
   "source": [
    "import pandas as pd\n",
    "import os\n",
    "import numpy as np\n",
    "import seaborn as sns\n",
    "import matplotlib.pyplot as plt"
   ]
  },
  {
   "cell_type": "code",
   "execution_count": 7,
   "metadata": {
    "ExecuteTime": {
     "end_time": "2022-03-29T01:06:33.962727Z",
     "start_time": "2022-03-29T01:06:33.870939Z"
    }
   },
   "outputs": [],
   "source": [
    "data = pd.read_csv(\"data_app_movil.csv\")"
   ]
  },
  {
   "cell_type": "markdown",
   "metadata": {},
   "source": [
    "## Analisis Exploratorio"
   ]
  },
  {
   "cell_type": "markdown",
   "metadata": {},
   "source": [
    "* Unnamed: 0 : Posible indice, se eliminara.\n",
    "* at: Fecha en la que se capturo el contenido\n",
    "* content: llamada pasada a texto\n",
    "* reviewCreatedVersion: \n",
    "* thumbsUpCount: Apoyo\n",
    "* content.1: Duplicado de content\n",
    "* topic: Variable target"
   ]
  },
  {
   "cell_type": "code",
   "execution_count": 10,
   "metadata": {
    "ExecuteTime": {
     "end_time": "2022-03-29T01:07:34.221221Z",
     "start_time": "2022-03-29T01:07:34.161481Z"
    }
   },
   "outputs": [
    {
     "data": {
      "text/html": [
       "<div>\n",
       "<style scoped>\n",
       "    .dataframe tbody tr th:only-of-type {\n",
       "        vertical-align: middle;\n",
       "    }\n",
       "\n",
       "    .dataframe tbody tr th {\n",
       "        vertical-align: top;\n",
       "    }\n",
       "\n",
       "    .dataframe thead th {\n",
       "        text-align: right;\n",
       "    }\n",
       "</style>\n",
       "<table border=\"1\" class=\"dataframe\">\n",
       "  <thead>\n",
       "    <tr style=\"text-align: right;\">\n",
       "      <th></th>\n",
       "      <th>Unnamed: 0</th>\n",
       "      <th>at</th>\n",
       "      <th>content</th>\n",
       "      <th>reviewCreatedVersion</th>\n",
       "      <th>thumbsUpCount</th>\n",
       "      <th>content.1</th>\n",
       "      <th>topic</th>\n",
       "    </tr>\n",
       "  </thead>\n",
       "  <tbody>\n",
       "    <tr>\n",
       "      <th>0</th>\n",
       "      <td>6</td>\n",
       "      <td>2021-09-22 23:45:00</td>\n",
       "      <td>Que paso con la app, al abrir se cierra despué...</td>\n",
       "      <td>5.62</td>\n",
       "      <td>217</td>\n",
       "      <td>Que paso con la app, al abrir se cierra despué...</td>\n",
       "      <td>transferencias</td>\n",
       "    </tr>\n",
       "    <tr>\n",
       "      <th>1</th>\n",
       "      <td>9</td>\n",
       "      <td>2021-03-21 17:26:06</td>\n",
       "      <td>No funciona, después de más de una hora entre ...</td>\n",
       "      <td>5.59</td>\n",
       "      <td>201</td>\n",
       "      <td>No funciona, después de más de una hora entre ...</td>\n",
       "      <td>transferencias</td>\n",
       "    </tr>\n",
       "    <tr>\n",
       "      <th>2</th>\n",
       "      <td>10</td>\n",
       "      <td>2021-08-04 14:39:20</td>\n",
       "      <td>La app ha intentado mejorar desde el 2019, per...</td>\n",
       "      <td>5.60</td>\n",
       "      <td>185</td>\n",
       "      <td>La app ha intentado mejorar desde el 2019, per...</td>\n",
       "      <td>transferencias</td>\n",
       "    </tr>\n",
       "    <tr>\n",
       "      <th>3</th>\n",
       "      <td>19</td>\n",
       "      <td>2021-06-14 16:44:16</td>\n",
       "      <td>Poner una estrella es mucho, sólo porque lo pi...</td>\n",
       "      <td>5.59.2</td>\n",
       "      <td>131</td>\n",
       "      <td>Poner una estrella es mucho, sólo porque lo pi...</td>\n",
       "      <td>transferencias</td>\n",
       "    </tr>\n",
       "    <tr>\n",
       "      <th>4</th>\n",
       "      <td>24</td>\n",
       "      <td>2021-07-02 14:36:40</td>\n",
       "      <td>Esta aplicación no deja de presentar fallas de...</td>\n",
       "      <td>5.60</td>\n",
       "      <td>126</td>\n",
       "      <td>Esta aplicación no deja de presentar fallas de...</td>\n",
       "      <td>transferencias</td>\n",
       "    </tr>\n",
       "  </tbody>\n",
       "</table>\n",
       "</div>"
      ],
      "text/plain": [
       "   Unnamed: 0                   at  \\\n",
       "0           6  2021-09-22 23:45:00   \n",
       "1           9  2021-03-21 17:26:06   \n",
       "2          10  2021-08-04 14:39:20   \n",
       "3          19  2021-06-14 16:44:16   \n",
       "4          24  2021-07-02 14:36:40   \n",
       "\n",
       "                                             content reviewCreatedVersion  \\\n",
       "0  Que paso con la app, al abrir se cierra despué...                 5.62   \n",
       "1  No funciona, después de más de una hora entre ...                 5.59   \n",
       "2  La app ha intentado mejorar desde el 2019, per...                 5.60   \n",
       "3  Poner una estrella es mucho, sólo porque lo pi...               5.59.2   \n",
       "4  Esta aplicación no deja de presentar fallas de...                 5.60   \n",
       "\n",
       "   thumbsUpCount                                          content.1  \\\n",
       "0            217  Que paso con la app, al abrir se cierra despué...   \n",
       "1            201  No funciona, después de más de una hora entre ...   \n",
       "2            185  La app ha intentado mejorar desde el 2019, per...   \n",
       "3            131  Poner una estrella es mucho, sólo porque lo pi...   \n",
       "4            126  Esta aplicación no deja de presentar fallas de...   \n",
       "\n",
       "            topic  \n",
       "0  transferencias  \n",
       "1  transferencias  \n",
       "2  transferencias  \n",
       "3  transferencias  \n",
       "4  transferencias  "
      ]
     },
     "execution_count": 10,
     "metadata": {},
     "output_type": "execute_result"
    }
   ],
   "source": [
    "data.head(5)"
   ]
  },
  {
   "cell_type": "code",
   "execution_count": 12,
   "metadata": {
    "ExecuteTime": {
     "end_time": "2022-03-29T01:16:54.152183Z",
     "start_time": "2022-03-29T01:16:54.124433Z"
    }
   },
   "outputs": [
    {
     "data": {
      "text/html": [
       "<div>\n",
       "<style scoped>\n",
       "    .dataframe tbody tr th:only-of-type {\n",
       "        vertical-align: middle;\n",
       "    }\n",
       "\n",
       "    .dataframe tbody tr th {\n",
       "        vertical-align: top;\n",
       "    }\n",
       "\n",
       "    .dataframe thead th {\n",
       "        text-align: right;\n",
       "    }\n",
       "</style>\n",
       "<table border=\"1\" class=\"dataframe\">\n",
       "  <thead>\n",
       "    <tr style=\"text-align: right;\">\n",
       "      <th></th>\n",
       "      <th>at</th>\n",
       "      <th>content</th>\n",
       "      <th>reviewCreatedVersion</th>\n",
       "      <th>thumbsUpCount</th>\n",
       "      <th>topic</th>\n",
       "    </tr>\n",
       "  </thead>\n",
       "  <tbody>\n",
       "    <tr>\n",
       "      <th>0</th>\n",
       "      <td>2021-09-22 23:45:00</td>\n",
       "      <td>Que paso con la app, al abrir se cierra despué...</td>\n",
       "      <td>5.62</td>\n",
       "      <td>217</td>\n",
       "      <td>transferencias</td>\n",
       "    </tr>\n",
       "    <tr>\n",
       "      <th>1</th>\n",
       "      <td>2021-03-21 17:26:06</td>\n",
       "      <td>No funciona, después de más de una hora entre ...</td>\n",
       "      <td>5.59</td>\n",
       "      <td>201</td>\n",
       "      <td>transferencias</td>\n",
       "    </tr>\n",
       "    <tr>\n",
       "      <th>2</th>\n",
       "      <td>2021-08-04 14:39:20</td>\n",
       "      <td>La app ha intentado mejorar desde el 2019, per...</td>\n",
       "      <td>5.60</td>\n",
       "      <td>185</td>\n",
       "      <td>transferencias</td>\n",
       "    </tr>\n",
       "    <tr>\n",
       "      <th>3</th>\n",
       "      <td>2021-06-14 16:44:16</td>\n",
       "      <td>Poner una estrella es mucho, sólo porque lo pi...</td>\n",
       "      <td>5.59.2</td>\n",
       "      <td>131</td>\n",
       "      <td>transferencias</td>\n",
       "    </tr>\n",
       "    <tr>\n",
       "      <th>4</th>\n",
       "      <td>2021-07-02 14:36:40</td>\n",
       "      <td>Esta aplicación no deja de presentar fallas de...</td>\n",
       "      <td>5.60</td>\n",
       "      <td>126</td>\n",
       "      <td>transferencias</td>\n",
       "    </tr>\n",
       "  </tbody>\n",
       "</table>\n",
       "</div>"
      ],
      "text/plain": [
       "                    at                                            content  \\\n",
       "0  2021-09-22 23:45:00  Que paso con la app, al abrir se cierra despué...   \n",
       "1  2021-03-21 17:26:06  No funciona, después de más de una hora entre ...   \n",
       "2  2021-08-04 14:39:20  La app ha intentado mejorar desde el 2019, per...   \n",
       "3  2021-06-14 16:44:16  Poner una estrella es mucho, sólo porque lo pi...   \n",
       "4  2021-07-02 14:36:40  Esta aplicación no deja de presentar fallas de...   \n",
       "\n",
       "  reviewCreatedVersion  thumbsUpCount           topic  \n",
       "0                 5.62            217  transferencias  \n",
       "1                 5.59            201  transferencias  \n",
       "2                 5.60            185  transferencias  \n",
       "3               5.59.2            131  transferencias  \n",
       "4                 5.60            126  transferencias  "
      ]
     },
     "execution_count": 12,
     "metadata": {},
     "output_type": "execute_result"
    }
   ],
   "source": [
    "data = data.drop([\"Unnamed: 0\",\"content.1\"],axis = 1)\n",
    "data.head(5)"
   ]
  },
  {
   "cell_type": "markdown",
   "metadata": {},
   "source": [
    "### Numero de llamadas por dia"
   ]
  },
  {
   "cell_type": "code",
   "execution_count": 14,
   "metadata": {
    "ExecuteTime": {
     "end_time": "2022-03-29T01:18:24.476459Z",
     "start_time": "2022-03-29T01:18:24.459950Z"
    }
   },
   "outputs": [],
   "source": [
    "data[\"at\"] = pd.to_datetime(data[\"at\"])\n",
    "data[\"date\"] = data[\"at\"].dt.date"
   ]
  },
  {
   "cell_type": "code",
   "execution_count": 25,
   "metadata": {
    "ExecuteTime": {
     "end_time": "2022-03-29T01:21:20.366416Z",
     "start_time": "2022-03-29T01:21:20.049114Z"
    }
   },
   "outputs": [
    {
     "data": {
      "text/plain": [
       "Text(0, 0.5, 'Numero llamadas')"
      ]
     },
     "execution_count": 25,
     "metadata": {},
     "output_type": "execute_result"
    },
    {
     "data": {
      "image/png": "[encoded data removed]",
      "text/plain": [
       "<Figure size 1008x432 with 1 Axes>"
      ]
     },
     "metadata": {
      "needs_background": "light"
     },
     "output_type": "display_data"
    }
   ],
   "source": [
    "plt.figure(figsize = (14,6))\n",
    "plt.plot(data.groupby(\"date\")[[\"topic\"]].count())\n",
    "plt.title(\"Numero de llamadas por dia\")\n",
    "plt.xlabel(\"Fecha\")\n",
    "plt.ylabel(\"Numero llamadas\")"
   ]
  },
  {
   "cell_type": "markdown",
   "metadata": {},
   "source": [
    "### Numero de llamadas por topico"
   ]
  },
  {
   "cell_type": "code",
   "execution_count": 32,
   "metadata": {
    "ExecuteTime": {
     "end_time": "2022-03-29T01:23:46.876700Z",
     "start_time": "2022-03-29T01:23:46.287668Z"
    }
   },
   "outputs": [
    {
     "data": {
      "text/plain": [
       "Text(0, 0.5, 'Numero llamadas')"
      ]
     },
     "execution_count": 32,
     "metadata": {},
     "output_type": "execute_result"
    },
    {
     "data": {
      "image/png": "[encoded data removed]",
      "text/plain": [
       "<Figure size 1008x432 with 1 Axes>"
      ]
     },
     "metadata": {
      "needs_background": "light"
     },
     "output_type": "display_data"
    }
   ],
   "source": [
    "plt.figure(figsize = (14,6))\n",
    "sns.lineplot(data = data.groupby([\"date\",\"topic\"])[[\"content\"]].count().reset_index(),\n",
    "            x = \"date\",\n",
    "            y = \"content\",\n",
    "            hue = \"topic\")\n",
    "plt.title(\"Numero de llamadas por dia\")\n",
    "plt.xlabel(\"Fecha\")\n",
    "plt.ylabel(\"Numero llamadas\")"
   ]
  },
  {
   "cell_type": "markdown",
   "metadata": {},
   "source": [
    "### ¿A que hora hay mas llamadas?"
   ]
  },
  {
   "cell_type": "code",
   "execution_count": 36,
   "metadata": {
    "ExecuteTime": {
     "end_time": "2022-03-29T01:26:25.845287Z",
     "start_time": "2022-03-29T01:26:25.834645Z"
    }
   },
   "outputs": [],
   "source": [
    "data[\"hora\"] = data[\"at\"].dt.hour"
   ]
  },
  {
   "cell_type": "code",
   "execution_count": 38,
   "metadata": {
    "ExecuteTime": {
     "end_time": "2022-03-29T01:26:55.988994Z",
     "start_time": "2022-03-29T01:26:55.977476Z"
    }
   },
   "outputs": [],
   "source": [
    "data[\"dia\"] = data[\"at\"].dt.day"
   ]
  },
  {
   "cell_type": "code",
   "execution_count": 51,
   "metadata": {
    "ExecuteTime": {
     "end_time": "2022-03-29T01:31:52.682124Z",
     "start_time": "2022-03-29T01:31:52.667541Z"
    }
   },
   "outputs": [],
   "source": [
    "data[\"dia_semana\"] = data[\"at\"].dt.day_name()"
   ]
  },
  {
   "cell_type": "code",
   "execution_count": 44,
   "metadata": {
    "ExecuteTime": {
     "end_time": "2022-03-29T01:30:28.687429Z",
     "start_time": "2022-03-29T01:30:28.058940Z"
    }
   },
   "outputs": [
    {
     "data": {
      "text/plain": [
       "<AxesSubplot:xlabel='hora', ylabel='count'>"
      ]
     },
     "execution_count": 44,
     "metadata": {},
     "output_type": "execute_result"
    },
    {
     "data": {
      "image/png": "[encoded data removed]",
      "text/plain": [
       "<Figure size 864x432 with 1 Axes>"
      ]
     },
     "metadata": {
      "needs_background": "light"
     },
     "output_type": "display_data"
    }
   ],
   "source": [
    "plt.figure(figsize = (12,6))\n",
    "sns.countplot(data = data,\n",
    "             x = \"hora\",\n",
    "             hue = \"topic\")"
   ]
  },
  {
   "cell_type": "code",
   "execution_count": null,
   "metadata": {},
   "outputs": [],
   "source": []
  },
  {
   "cell_type": "markdown",
   "metadata": {},
   "source": [
    "### Que dia hay mas llamadas"
   ]
  },
  {
   "cell_type": "code",
   "execution_count": 46,
   "metadata": {
    "ExecuteTime": {
     "end_time": "2022-03-29T01:31:00.128192Z",
     "start_time": "2022-03-29T01:30:58.872362Z"
    }
   },
   "outputs": [
    {
     "data": {
      "text/plain": [
       "<AxesSubplot:xlabel='dia', ylabel='count'>"
      ]
     },
     "execution_count": 46,
     "metadata": {},
     "output_type": "execute_result"
    },
    {
     "data": {
      "image/png": "[encoded data removed]",
      "text/plain": [
       "<Figure size 864x432 with 1 Axes>"
      ]
     },
     "metadata": {
      "needs_background": "light"
     },
     "output_type": "display_data"
    }
   ],
   "source": [
    "plt.figure(figsize = (12,6))\n",
    "sns.countplot(data = data,\n",
    "             x = \"dia\",\n",
    "             hue = \"topic\")"
   ]
  },
  {
   "cell_type": "markdown",
   "metadata": {},
   "source": [
    "### DIa de la semana con mas llamadas"
   ]
  },
  {
   "cell_type": "code",
   "execution_count": 52,
   "metadata": {
    "ExecuteTime": {
     "end_time": "2022-03-29T01:32:28.183600Z",
     "start_time": "2022-03-29T01:32:27.554647Z"
    }
   },
   "outputs": [
    {
     "data": {
      "text/plain": [
       "<AxesSubplot:xlabel='dia_semana', ylabel='count'>"
      ]
     },
     "execution_count": 52,
     "metadata": {},
     "output_type": "execute_result"
    },
    {
     "data": {
      "image/png": "[encoded data removed]",
      "text/plain": [
       "<Figure size 864x432 with 1 Axes>"
      ]
     },
     "metadata": {
      "needs_background": "light"
     },
     "output_type": "display_data"
    }
   ],
   "source": [
    "plt.figure(figsize = (12,6))\n",
    "sns.countplot(data = data,\n",
    "             x = \"dia_semana\",\n",
    "             hue = \"topic\")"
   ]
  },
  {
   "cell_type": "markdown",
   "metadata": {},
   "source": [
    "### Horario Godin"
   ]
  },
  {
   "cell_type": "code",
   "execution_count": 55,
   "metadata": {
    "ExecuteTime": {
     "end_time": "2022-03-29T01:37:19.187305Z",
     "start_time": "2022-03-29T01:37:19.172346Z"
    }
   },
   "outputs": [],
   "source": [
    "data[\"tipo_horario\"] = np.where(data[\"hora\"].between(8,16),\"Godin\",\"Libre\")"
   ]
  },
  {
   "cell_type": "code",
   "execution_count": 57,
   "metadata": {
    "ExecuteTime": {
     "end_time": "2022-03-29T01:37:34.912865Z",
     "start_time": "2022-03-29T01:37:34.613522Z"
    },
    "scrolled": false
   },
   "outputs": [
    {
     "data": {
      "text/plain": [
       "<AxesSubplot:xlabel='tipo_horario', ylabel='count'>"
      ]
     },
     "execution_count": 57,
     "metadata": {},
     "output_type": "execute_result"
    },
    {
     "data": {
      "image/png": "[encoded data removed]",
      "text/plain": [
       "<Figure size 864x432 with 1 Axes>"
      ]
     },
     "metadata": {
      "needs_background": "light"
     },
     "output_type": "display_data"
    }
   ],
   "source": [
    "plt.figure(figsize = (12,6))\n",
    "sns.countplot(data = data,\n",
    "             x = \"tipo_horario\",\n",
    "             hue = \"topic\")"
   ]
  },
  {
   "cell_type": "markdown",
   "metadata": {},
   "source": [
    "### thumbsUpCount"
   ]
  },
  {
   "cell_type": "code",
   "execution_count": 63,
   "metadata": {
    "ExecuteTime": {
     "end_time": "2022-03-29T01:40:12.140048Z",
     "start_time": "2022-03-29T01:40:11.687590Z"
    }
   },
   "outputs": [
    {
     "name": "stderr",
     "output_type": "stream",
     "text": [
      "/home/carlos-vazquez/anaconda3/lib/python3.8/site-packages/seaborn/_decorators.py:36: FutureWarning: Pass the following variable as a keyword arg: x. From version 0.12, the only valid positional argument will be `data`, and passing other arguments without an explicit keyword will result in an error or misinterpretation.\n",
      "  warnings.warn(\n"
     ]
    },
    {
     "data": {
      "text/plain": [
       "<AxesSubplot:xlabel='thumbsUpCount'>"
      ]
     },
     "execution_count": 63,
     "metadata": {},
     "output_type": "execute_result"
    },
    {
     "data": {
      "image/png": "[encoded data removed]",
      "text/plain": [
       "<Figure size 1080x432 with 2 Axes>"
      ]
     },
     "metadata": {
      "needs_background": "light"
     },
     "output_type": "display_data"
    }
   ],
   "source": [
    "fig, axs = plt.subplots(1,2, figsize = (15,6))\n",
    "sns.histplot(data[\"thumbsUpCount\"],ax = axs[0])\n",
    "sns.boxplot(data[\"thumbsUpCount\"],ax = axs[1])"
   ]
  },
  {
   "cell_type": "code",
   "execution_count": 69,
   "metadata": {
    "ExecuteTime": {
     "end_time": "2022-03-29T01:43:19.231369Z",
     "start_time": "2022-03-29T01:43:18.665407Z"
    }
   },
   "outputs": [
    {
     "data": {
      "text/plain": [
       "<AxesSubplot:xlabel='topic', ylabel='thumbsUpCount'>"
      ]
     },
     "execution_count": 69,
     "metadata": {},
     "output_type": "execute_result"
    },
    {
     "data": {
      "image/png": "[encoded data removed]",
      "text/plain": [
       "<Figure size 1080x432 with 2 Axes>"
      ]
     },
     "metadata": {
      "needs_background": "light"
     },
     "output_type": "display_data"
    }
   ],
   "source": [
    "fig, axs = plt.subplots(1,2, figsize = (15,6))\n",
    "sns.histplot(data = data,x = \"thumbsUpCount\",hue = \"topic\",ax = axs[0])\n",
    "sns.boxplot(data = data,y = \"thumbsUpCount\", x = \"topic\",ax = axs[1])"
   ]
  },
  {
   "cell_type": "markdown",
   "metadata": {},
   "source": [
    "### Varibale target"
   ]
  },
  {
   "cell_type": "code",
   "execution_count": 76,
   "metadata": {
    "ExecuteTime": {
     "end_time": "2022-03-29T01:44:56.986475Z",
     "start_time": "2022-03-29T01:44:56.754235Z"
    }
   },
   "outputs": [
    {
     "data": {
      "text/plain": [
       "<AxesSubplot:xlabel='topic', ylabel='count'>"
      ]
     },
     "execution_count": 76,
     "metadata": {},
     "output_type": "execute_result"
    },
    {
     "data": {
      "image/png": "[encoded data removed]",
      "text/plain": [
       "<Figure size 864x432 with 1 Axes>"
      ]
     },
     "metadata": {
      "needs_background": "light"
     },
     "output_type": "display_data"
    }
   ],
   "source": [
    "plt.figure(figsize = (12,6))\n",
    "sns.countplot(data = data,\n",
    "             x = \"topic\")"
   ]
  },
  {
   "cell_type": "markdown",
   "metadata": {},
   "source": [
    "### Llamadas duplicadas"
   ]
  },
  {
   "cell_type": "markdown",
   "metadata": {},
   "source": [
    "Hay 589 llamadas duplicadas"
   ]
  },
  {
   "cell_type": "code",
   "execution_count": 80,
   "metadata": {
    "ExecuteTime": {
     "end_time": "2022-03-29T01:56:37.329018Z",
     "start_time": "2022-03-29T01:56:37.272020Z"
    }
   },
   "outputs": [
    {
     "data": {
      "text/html": [
       "<div>\n",
       "<style scoped>\n",
       "    .dataframe tbody tr th:only-of-type {\n",
       "        vertical-align: middle;\n",
       "    }\n",
       "\n",
       "    .dataframe tbody tr th {\n",
       "        vertical-align: top;\n",
       "    }\n",
       "\n",
       "    .dataframe thead th {\n",
       "        text-align: right;\n",
       "    }\n",
       "</style>\n",
       "<table border=\"1\" class=\"dataframe\">\n",
       "  <thead>\n",
       "    <tr style=\"text-align: right;\">\n",
       "      <th></th>\n",
       "      <th>at</th>\n",
       "      <th>content</th>\n",
       "      <th>reviewCreatedVersion</th>\n",
       "      <th>thumbsUpCount</th>\n",
       "      <th>topic</th>\n",
       "      <th>date</th>\n",
       "      <th>hora</th>\n",
       "      <th>dia</th>\n",
       "      <th>dia_semana</th>\n",
       "      <th>tipo_horario</th>\n",
       "    </tr>\n",
       "  </thead>\n",
       "  <tbody>\n",
       "    <tr>\n",
       "      <th>1096</th>\n",
       "      <td>2021-03-21 10:38:10</td>\n",
       "      <td>No puedo hacer transferencias</td>\n",
       "      <td>5.59</td>\n",
       "      <td>0</td>\n",
       "      <td>transferencias</td>\n",
       "      <td>2021-03-21</td>\n",
       "      <td>10</td>\n",
       "      <td>21</td>\n",
       "      <td>Sunday</td>\n",
       "      <td>Godin</td>\n",
       "    </tr>\n",
       "    <tr>\n",
       "      <th>1337</th>\n",
       "      <td>2021-02-10 09:46:00</td>\n",
       "      <td>No pude transferir</td>\n",
       "      <td>5.58.4</td>\n",
       "      <td>0</td>\n",
       "      <td>transferencias</td>\n",
       "      <td>2021-02-10</td>\n",
       "      <td>9</td>\n",
       "      <td>10</td>\n",
       "      <td>Wednesday</td>\n",
       "      <td>Godin</td>\n",
       "    </tr>\n",
       "    <tr>\n",
       "      <th>1442</th>\n",
       "      <td>2021-02-28 16:56:36</td>\n",
       "      <td>No puedo hacer transferencia bancaria</td>\n",
       "      <td>5.58.5</td>\n",
       "      <td>0</td>\n",
       "      <td>transferencias</td>\n",
       "      <td>2021-02-28</td>\n",
       "      <td>16</td>\n",
       "      <td>28</td>\n",
       "      <td>Sunday</td>\n",
       "      <td>Godin</td>\n",
       "    </tr>\n",
       "    <tr>\n",
       "      <th>1518</th>\n",
       "      <td>2020-09-08 21:50:42</td>\n",
       "      <td>No puedo hacer transferencias</td>\n",
       "      <td>5.57.7</td>\n",
       "      <td>0</td>\n",
       "      <td>transferencias</td>\n",
       "      <td>2020-09-08</td>\n",
       "      <td>21</td>\n",
       "      <td>8</td>\n",
       "      <td>Tuesday</td>\n",
       "      <td>Libre</td>\n",
       "    </tr>\n",
       "    <tr>\n",
       "      <th>1727</th>\n",
       "      <td>2020-08-15 20:34:31</td>\n",
       "      <td>No deja transferir</td>\n",
       "      <td>NaN</td>\n",
       "      <td>0</td>\n",
       "      <td>transferencias</td>\n",
       "      <td>2020-08-15</td>\n",
       "      <td>20</td>\n",
       "      <td>15</td>\n",
       "      <td>Saturday</td>\n",
       "      <td>Libre</td>\n",
       "    </tr>\n",
       "    <tr>\n",
       "      <th>...</th>\n",
       "      <td>...</td>\n",
       "      <td>...</td>\n",
       "      <td>...</td>\n",
       "      <td>...</td>\n",
       "      <td>...</td>\n",
       "      <td>...</td>\n",
       "      <td>...</td>\n",
       "      <td>...</td>\n",
       "      <td>...</td>\n",
       "      <td>...</td>\n",
       "    </tr>\n",
       "    <tr>\n",
       "      <th>7442</th>\n",
       "      <td>2021-06-09 10:53:29</td>\n",
       "      <td>Es lenta la aplicación y eso del super token p...</td>\n",
       "      <td>5.59.2</td>\n",
       "      <td>0</td>\n",
       "      <td>token</td>\n",
       "      <td>2021-06-09</td>\n",
       "      <td>10</td>\n",
       "      <td>9</td>\n",
       "      <td>Wednesday</td>\n",
       "      <td>Godin</td>\n",
       "    </tr>\n",
       "    <tr>\n",
       "      <th>7447</th>\n",
       "      <td>2021-06-16 15:30:43</td>\n",
       "      <td>Falla mucho con el súper token no puedo realiz...</td>\n",
       "      <td>5.59.2</td>\n",
       "      <td>0</td>\n",
       "      <td>token</td>\n",
       "      <td>2021-06-16</td>\n",
       "      <td>15</td>\n",
       "      <td>16</td>\n",
       "      <td>Wednesday</td>\n",
       "      <td>Godin</td>\n",
       "    </tr>\n",
       "    <tr>\n",
       "      <th>7453</th>\n",
       "      <td>2021-06-17 17:43:58</td>\n",
       "      <td>No me gusta que para hacer transferencias tien...</td>\n",
       "      <td>5.59.2</td>\n",
       "      <td>0</td>\n",
       "      <td>token</td>\n",
       "      <td>2021-06-17</td>\n",
       "      <td>17</td>\n",
       "      <td>17</td>\n",
       "      <td>Thursday</td>\n",
       "      <td>Libre</td>\n",
       "    </tr>\n",
       "    <tr>\n",
       "      <th>7461</th>\n",
       "      <td>2021-06-14 12:39:10</td>\n",
       "      <td>No puedo hacer transferencias, ni puedo consul...</td>\n",
       "      <td>5.59.2</td>\n",
       "      <td>0</td>\n",
       "      <td>token</td>\n",
       "      <td>2021-06-14</td>\n",
       "      <td>12</td>\n",
       "      <td>14</td>\n",
       "      <td>Monday</td>\n",
       "      <td>Godin</td>\n",
       "    </tr>\n",
       "    <tr>\n",
       "      <th>7463</th>\n",
       "      <td>2021-06-15 09:49:32</td>\n",
       "      <td>Quiero hacer trafercias a otros bancos y nisiq...</td>\n",
       "      <td>5.59.2</td>\n",
       "      <td>0</td>\n",
       "      <td>token</td>\n",
       "      <td>2021-06-15</td>\n",
       "      <td>9</td>\n",
       "      <td>15</td>\n",
       "      <td>Tuesday</td>\n",
       "      <td>Godin</td>\n",
       "    </tr>\n",
       "  </tbody>\n",
       "</table>\n",
       "<p>589 rows × 10 columns</p>\n",
       "</div>"
      ],
      "text/plain": [
       "                      at                                            content  \\\n",
       "1096 2021-03-21 10:38:10                      No puedo hacer transferencias   \n",
       "1337 2021-02-10 09:46:00                                 No pude transferir   \n",
       "1442 2021-02-28 16:56:36              No puedo hacer transferencia bancaria   \n",
       "1518 2020-09-08 21:50:42                      No puedo hacer transferencias   \n",
       "1727 2020-08-15 20:34:31                                 No deja transferir   \n",
       "...                  ...                                                ...   \n",
       "7442 2021-06-09 10:53:29  Es lenta la aplicación y eso del super token p...   \n",
       "7447 2021-06-16 15:30:43  Falla mucho con el súper token no puedo realiz...   \n",
       "7453 2021-06-17 17:43:58  No me gusta que para hacer transferencias tien...   \n",
       "7461 2021-06-14 12:39:10  No puedo hacer transferencias, ni puedo consul...   \n",
       "7463 2021-06-15 09:49:32  Quiero hacer trafercias a otros bancos y nisiq...   \n",
       "\n",
       "     reviewCreatedVersion  thumbsUpCount           topic        date  hora  \\\n",
       "1096                 5.59              0  transferencias  2021-03-21    10   \n",
       "1337               5.58.4              0  transferencias  2021-02-10     9   \n",
       "1442               5.58.5              0  transferencias  2021-02-28    16   \n",
       "1518               5.57.7              0  transferencias  2020-09-08    21   \n",
       "1727                  NaN              0  transferencias  2020-08-15    20   \n",
       "...                   ...            ...             ...         ...   ...   \n",
       "7442               5.59.2              0           token  2021-06-09    10   \n",
       "7447               5.59.2              0           token  2021-06-16    15   \n",
       "7453               5.59.2              0           token  2021-06-17    17   \n",
       "7461               5.59.2              0           token  2021-06-14    12   \n",
       "7463               5.59.2              0           token  2021-06-15     9   \n",
       "\n",
       "      dia dia_semana tipo_horario  \n",
       "1096   21     Sunday        Godin  \n",
       "1337   10  Wednesday        Godin  \n",
       "1442   28     Sunday        Godin  \n",
       "1518    8    Tuesday        Libre  \n",
       "1727   15   Saturday        Libre  \n",
       "...   ...        ...          ...  \n",
       "7442    9  Wednesday        Godin  \n",
       "7447   16  Wednesday        Godin  \n",
       "7453   17   Thursday        Libre  \n",
       "7461   14     Monday        Godin  \n",
       "7463   15    Tuesday        Godin  \n",
       "\n",
       "[589 rows x 10 columns]"
      ]
     },
     "execution_count": 80,
     "metadata": {},
     "output_type": "execute_result"
    }
   ],
   "source": [
    "data[data[\"content\"].duplicated()]"
   ]
  },
  {
   "cell_type": "markdown",
   "metadata": {},
   "source": [
    "### Features"
   ]
  },
  {
   "cell_type": "markdown",
   "metadata": {},
   "source": [
    "#### Valores nulos"
   ]
  },
  {
   "cell_type": "markdown",
   "metadata": {},
   "source": [
    "Unicamente la variables *reviewCreatedVersion* tiene valores nulos, y representan el **5%** de todos los datos."
   ]
  },
  {
   "cell_type": "code",
   "execution_count": 9,
   "metadata": {
    "ExecuteTime": {
     "end_time": "2022-03-29T01:06:58.149621Z",
     "start_time": "2022-03-29T01:06:58.132175Z"
    }
   },
   "outputs": [
    {
     "data": {
      "text/plain": [
       "Unnamed: 0              0.000000\n",
       "at                      0.000000\n",
       "content                 0.000000\n",
       "reviewCreatedVersion    5.290651\n",
       "thumbsUpCount           0.000000\n",
       "content.1               0.000000\n",
       "topic                   0.000000\n",
       "dtype: float64"
      ]
     },
     "execution_count": 9,
     "metadata": {},
     "output_type": "execute_result"
    }
   ],
   "source": [
    "data.isnull().sum() / data.shape[0]*100"
   ]
  },
  {
   "cell_type": "code",
   "execution_count": null,
   "metadata": {},
   "outputs": [],
   "source": []
  },
  {
   "cell_type": "markdown",
   "metadata": {},
   "source": [
    "### Target"
   ]
  },
  {
   "cell_type": "code",
   "execution_count": 3,
   "metadata": {
    "ExecuteTime": {
     "end_time": "2022-03-29T00:42:35.930320Z",
     "start_time": "2022-03-29T00:42:35.910779Z"
    }
   },
   "outputs": [
    {
     "data": {
      "text/plain": [
       "Unnamed: 0                0\n",
       "at                        0\n",
       "content                   0\n",
       "reviewCreatedVersion    395\n",
       "thumbsUpCount             0\n",
       "content.1                 0\n",
       "topic                     0\n",
       "dtype: int64"
      ]
     },
     "execution_count": 3,
     "metadata": {},
     "output_type": "execute_result"
    }
   ],
   "source": []
  },
  {
   "cell_type": "code",
   "execution_count": 9,
   "metadata": {
    "ExecuteTime": {
     "end_time": "2022-03-25T04:16:15.438591Z",
     "start_time": "2022-03-25T04:16:14.546907Z"
    }
   },
   "outputs": [
    {
     "data": {
      "text/plain": [
       "transferencias    0.621484\n",
       "token             0.378516\n",
       "Name: topic, dtype: float64"
      ]
     },
     "execution_count": 9,
     "metadata": {},
     "output_type": "execute_result"
    }
   ],
   "source": [
    "data[\"topic\"].value_counts(True)"
   ]
  },
  {
   "cell_type": "markdown",
   "metadata": {},
   "source": [
    "## Definir variable tgt"
   ]
  },
  {
   "cell_type": "code",
   "execution_count": 81,
   "metadata": {
    "ExecuteTime": {
     "end_time": "2022-03-29T01:58:29.802519Z",
     "start_time": "2022-03-29T01:58:29.791215Z"
    }
   },
   "outputs": [],
   "source": [
    "data['y'] = np.where(data[\"topic\"] == \"token\",1,0)"
   ]
  },
  {
   "cell_type": "code",
   "execution_count": 16,
   "metadata": {
    "ExecuteTime": {
     "end_time": "2022-03-25T04:17:40.211932Z",
     "start_time": "2022-03-25T04:17:40.194986Z"
    }
   },
   "outputs": [
    {
     "data": {
      "text/plain": [
       "0"
      ]
     },
     "execution_count": 16,
     "metadata": {},
     "output_type": "execute_result"
    }
   ],
   "source": [
    "# Vemos que esta duplicada la columna\n",
    "(data[\"content\"] != data[\"content.1\"]).sum()"
   ]
  },
  {
   "cell_type": "code",
   "execution_count": 17,
   "metadata": {
    "ExecuteTime": {
     "end_time": "2022-03-25T04:18:25.186984Z",
     "start_time": "2022-03-25T04:18:25.173786Z"
    }
   },
   "outputs": [],
   "source": [
    "data = data.drop(\"content.1\",axis = 1)"
   ]
  },
  {
   "cell_type": "code",
   "execution_count": null,
   "metadata": {},
   "outputs": [],
   "source": []
  },
  {
   "cell_type": "code",
   "execution_count": 82,
   "metadata": {
    "ExecuteTime": {
     "end_time": "2022-03-29T02:02:43.624703Z",
     "start_time": "2022-03-29T02:02:38.421521Z"
    }
   },
   "outputs": [],
   "source": [
    "# NLTK\n",
    "import nltk\n",
    "from nltk.tokenize import word_tokenize\n",
    "from nltk.tokenize import WordPunctTokenizer\n",
    "from nltk.stem     import WordNetLemmatizer \n",
    "from nltk.corpus   import stopwords"
   ]
  },
  {
   "cell_type": "code",
   "execution_count": 83,
   "metadata": {
    "ExecuteTime": {
     "end_time": "2022-03-29T02:03:12.147138Z",
     "start_time": "2022-03-29T02:03:11.593441Z"
    }
   },
   "outputs": [
    {
     "name": "stderr",
     "output_type": "stream",
     "text": [
      "[nltk_data] Downloading package stopwords to /home/carlos-\n",
      "[nltk_data]     vazquez/nltk_data...\n",
      "[nltk_data]   Package stopwords is already up-to-date!\n"
     ]
    },
    {
     "data": {
      "text/plain": [
       "True"
      ]
     },
     "execution_count": 83,
     "metadata": {},
     "output_type": "execute_result"
    }
   ],
   "source": [
    "import nltk\n",
    "nltk.download('stopwords')"
   ]
  },
  {
   "cell_type": "code",
   "execution_count": 84,
   "metadata": {
    "ExecuteTime": {
     "end_time": "2022-03-29T02:03:52.092583Z",
     "start_time": "2022-03-29T02:03:26.908077Z"
    }
   },
   "outputs": [
    {
     "name": "stdout",
     "output_type": "stream",
     "text": [
      "The stop words list has a length of 317 words\n"
     ]
    }
   ],
   "source": [
    "# Define funciones para limpiar texto\n",
    "# Importa algunas librerías útiles para las tareas de limpieza de texto\n",
    "import nltk\n",
    "import spacy\n",
    "from spacy.lang.es import Spanish\n",
    "import re\n",
    "import string\n",
    "from unidecode import unidecode\n",
    "from nltk.corpus import stopwords\n",
    "from nltk.tokenize import word_tokenize\n",
    "import itertools\n",
    "import collections\n",
    "import csv\n",
    "\n",
    "# Si no has descargado el archivo de stop words en español, al ejecutar este pesado de código te saldrá un error. \n",
    "# Investiga en internet cómo descargar la lista de stopwords en español\n",
    "nlp = Spanish()\n",
    "\n",
    "# Stop words en español\n",
    "stop_words = list(set(stopwords.words('spanish')))\n",
    "\n",
    "# ¿Con el conocimiento que tienes de stop words, cuáles crees que nos falten de agregar? Yo te agrego unas, pero piensa en otras\n",
    "stop_words.append('aplicacion')\n",
    "stop_words.append('banco')\n",
    "stop_words.append(\"algo\")\n",
    "stop_words.append('ambos')\n",
    "\n",
    "# Imprime la longitud de la lista de stopwords en español\n",
    "print(\"The stop words list has a length of {} words\".format(len(stop_words)))"
   ]
  },
  {
   "cell_type": "code",
   "execution_count": null,
   "metadata": {},
   "outputs": [],
   "source": []
  },
  {
   "cell_type": "code",
   "execution_count": 85,
   "metadata": {
    "ExecuteTime": {
     "end_time": "2022-03-29T02:03:52.202761Z",
     "start_time": "2022-03-29T02:03:52.189306Z"
    }
   },
   "outputs": [],
   "source": [
    "# Define funciones para limpiar texto\n",
    "def remove_accents(a):\n",
    "    \"\"\" Función para eliminar acentos\n",
    "      \n",
    "        Args:  \n",
    "        a pandas series string\n",
    "    \"\"\"\n",
    "    return unidecode(a)\n",
    "\n",
    "def clean_re(txt):\n",
    "    \"\"\" Función para eliminar puntuación, convertir a minusculas, entre otras cosas\n",
    "      \n",
    "        Args:  \n",
    "        txt pandas series string\n",
    "    \"\"\"\n",
    "    # Convierte a minusculas\n",
    "    txt = pd.Series(txt).str.lower()\n",
    "    \n",
    "    # Elimina caracteres especiales de tipo \\t\\n\\r\\f\\v\n",
    "    txt = pd.Series(txt).apply(lambda x: re.sub(r'[^\\w\\s]',' ',x))\n",
    "    \n",
    "    # Elimina palabras con menos de tres letras\n",
    "    txt = txt.apply(lambda x: ' '.join([w for w in x.split() if len(w)>3]))\n",
    "    \n",
    "    # Elimina números\n",
    "    txt = pd.Series(txt).apply(lambda x: re.sub(r'\\b\\d+(?:\\.\\d+)?\\s+', ' ', x))\n",
    "    \n",
    "    return txt\n",
    "\n",
    "def remove_stopwords(txt):\n",
    "    \"\"\" Función para eliminar stop words\n",
    "      \n",
    "        Args:  \n",
    "        txt pandas series string\n",
    "    \"\"\"\n",
    "    txt = pd.Series(txt).apply(lambda x: ' '.join([item for item in x.split() if item not in stop_words]))\n",
    "    return txt"
   ]
  },
  {
   "cell_type": "code",
   "execution_count": 182,
   "metadata": {
    "ExecuteTime": {
     "end_time": "2022-03-29T04:26:09.449991Z",
     "start_time": "2022-03-29T04:26:09.426223Z"
    }
   },
   "outputs": [
    {
     "data": {
      "text/html": [
       "<div>\n",
       "<style scoped>\n",
       "    .dataframe tbody tr th:only-of-type {\n",
       "        vertical-align: middle;\n",
       "    }\n",
       "\n",
       "    .dataframe tbody tr th {\n",
       "        vertical-align: top;\n",
       "    }\n",
       "\n",
       "    .dataframe thead th {\n",
       "        text-align: right;\n",
       "    }\n",
       "</style>\n",
       "<table border=\"1\" class=\"dataframe\">\n",
       "  <thead>\n",
       "    <tr style=\"text-align: right;\">\n",
       "      <th></th>\n",
       "      <th>0</th>\n",
       "    </tr>\n",
       "  </thead>\n",
       "  <tbody>\n",
       "    <tr>\n",
       "      <th>0</th>\n",
       "      <td></td>\n",
       "    </tr>\n",
       "  </tbody>\n",
       "</table>\n",
       "</div>"
      ],
      "text/plain": [
       "  0\n",
       "0  "
      ]
     },
     "execution_count": 182,
     "metadata": {},
     "output_type": "execute_result"
    }
   ],
   "source": [
    "pd.Series(['as aas d']).apply(clean_re)"
   ]
  },
  {
   "cell_type": "code",
   "execution_count": 86,
   "metadata": {
    "ExecuteTime": {
     "end_time": "2022-03-29T02:04:32.221976Z",
     "start_time": "2022-03-29T02:04:11.531509Z"
    }
   },
   "outputs": [],
   "source": [
    "# Aplica las funciones a la variable 'content'\n",
    "# Esta parte del código tarda un poco\n",
    "data['content_clean'] = data['content'].apply(clean_re)\n",
    "data['content_clean'] = data['content_clean'].apply(remove_accents)\n",
    "data['content_clean'] = data['content_clean'].apply(remove_stopwords)"
   ]
  },
  {
   "cell_type": "code",
   "execution_count": null,
   "metadata": {},
   "outputs": [],
   "source": []
  },
  {
   "cell_type": "code",
   "execution_count": 24,
   "metadata": {
    "ExecuteTime": {
     "end_time": "2022-03-25T04:20:16.102850Z",
     "start_time": "2022-03-25T04:20:16.095180Z"
    }
   },
   "outputs": [],
   "source": [
    "from unidecode import unidecode"
   ]
  },
  {
   "cell_type": "code",
   "execution_count": 88,
   "metadata": {
    "ExecuteTime": {
     "end_time": "2022-03-29T02:09:11.834082Z",
     "start_time": "2022-03-29T02:09:11.826109Z"
    }
   },
   "outputs": [],
   "source": [
    "from sklearn.feature_extraction.text import TfidfVectorizer"
   ]
  },
  {
   "cell_type": "code",
   "execution_count": null,
   "metadata": {},
   "outputs": [],
   "source": []
  },
  {
   "cell_type": "code",
   "execution_count": 89,
   "metadata": {
    "ExecuteTime": {
     "end_time": "2022-03-29T02:09:13.520265Z",
     "start_time": "2022-03-29T02:09:13.512543Z"
    }
   },
   "outputs": [],
   "source": [
    "X = data[\"content\"]\n",
    "y = data[\"y\"]"
   ]
  },
  {
   "cell_type": "code",
   "execution_count": 90,
   "metadata": {
    "ExecuteTime": {
     "end_time": "2022-03-29T02:09:14.353686Z",
     "start_time": "2022-03-29T02:09:14.346174Z"
    }
   },
   "outputs": [],
   "source": [
    "from sklearn.model_selection import train_test_split"
   ]
  },
  {
   "cell_type": "code",
   "execution_count": 91,
   "metadata": {
    "ExecuteTime": {
     "end_time": "2022-03-29T02:09:15.001832Z",
     "start_time": "2022-03-29T02:09:14.984652Z"
    },
    "scrolled": true
   },
   "outputs": [],
   "source": [
    "xt,xv,yt,yv  = train_test_split(X,y, test_size = 0.3, random_state=42)"
   ]
  },
  {
   "cell_type": "code",
   "execution_count": 172,
   "metadata": {
    "ExecuteTime": {
     "end_time": "2022-03-29T04:14:42.372109Z",
     "start_time": "2022-03-29T04:14:42.362506Z"
    }
   },
   "outputs": [],
   "source": [
    "import pickle\n"
   ]
  },
  {
   "cell_type": "code",
   "execution_count": 92,
   "metadata": {
    "ExecuteTime": {
     "end_time": "2022-03-29T02:09:19.247537Z",
     "start_time": "2022-03-29T02:09:19.242240Z"
    }
   },
   "outputs": [],
   "source": [
    "vectorizer_TFID = TfidfVectorizer(max_features=100)"
   ]
  },
  {
   "cell_type": "code",
   "execution_count": 173,
   "metadata": {
    "ExecuteTime": {
     "end_time": "2022-03-29T04:14:52.312855Z",
     "start_time": "2022-03-29T04:14:52.298308Z"
    }
   },
   "outputs": [],
   "source": [
    "pickle.dump(vectorizer_TFID, open(\"vectorizer.pickle\", \"wb\"))"
   ]
  },
  {
   "cell_type": "code",
   "execution_count": null,
   "metadata": {},
   "outputs": [],
   "source": []
  },
  {
   "cell_type": "code",
   "execution_count": 93,
   "metadata": {
    "ExecuteTime": {
     "end_time": "2022-03-29T02:09:20.270279Z",
     "start_time": "2022-03-29T02:09:19.968572Z"
    }
   },
   "outputs": [
    {
     "data": {
      "text/plain": [
       "TfidfVectorizer(max_features=100)"
      ]
     },
     "execution_count": 93,
     "metadata": {},
     "output_type": "execute_result"
    }
   ],
   "source": [
    "vectorizer_TFID.fit(xt)"
   ]
  },
  {
   "cell_type": "code",
   "execution_count": 94,
   "metadata": {
    "ExecuteTime": {
     "end_time": "2022-03-29T02:09:22.238667Z",
     "start_time": "2022-03-29T02:09:22.231614Z"
    },
    "scrolled": true
   },
   "outputs": [
    {
     "data": {
      "text/plain": [
       "100"
      ]
     },
     "execution_count": 94,
     "metadata": {},
     "output_type": "execute_result"
    }
   ],
   "source": [
    "len(vectorizer_TFID.get_feature_names())"
   ]
  },
  {
   "cell_type": "code",
   "execution_count": 177,
   "metadata": {
    "ExecuteTime": {
     "end_time": "2022-03-29T04:17:09.079563Z",
     "start_time": "2022-03-29T04:17:09.022991Z"
    }
   },
   "outputs": [
    {
     "data": {
      "text/html": [
       "<div>\n",
       "<style scoped>\n",
       "    .dataframe tbody tr th:only-of-type {\n",
       "        vertical-align: middle;\n",
       "    }\n",
       "\n",
       "    .dataframe tbody tr th {\n",
       "        vertical-align: top;\n",
       "    }\n",
       "\n",
       "    .dataframe thead th {\n",
       "        text-align: right;\n",
       "    }\n",
       "</style>\n",
       "<table border=\"1\" class=\"dataframe\">\n",
       "  <thead>\n",
       "    <tr style=\"text-align: right;\">\n",
       "      <th></th>\n",
       "      <th>activar</th>\n",
       "      <th>actualización</th>\n",
       "      <th>ahora</th>\n",
       "      <th>al</th>\n",
       "      <th>alta</th>\n",
       "      <th>aplicación</th>\n",
       "      <th>app</th>\n",
       "      <th>banco</th>\n",
       "      <th>bancos</th>\n",
       "      <th>bien</th>\n",
       "      <th>...</th>\n",
       "      <th>token</th>\n",
       "      <th>transferencia</th>\n",
       "      <th>transferencias</th>\n",
       "      <th>transferir</th>\n",
       "      <th>un</th>\n",
       "      <th>una</th>\n",
       "      <th>usar</th>\n",
       "      <th>veces</th>\n",
       "      <th>vez</th>\n",
       "      <th>ya</th>\n",
       "    </tr>\n",
       "  </thead>\n",
       "  <tbody>\n",
       "    <tr>\n",
       "      <th>0</th>\n",
       "      <td>0.0</td>\n",
       "      <td>0.0</td>\n",
       "      <td>0.0</td>\n",
       "      <td>0.0</td>\n",
       "      <td>0.0</td>\n",
       "      <td>0.0</td>\n",
       "      <td>0.0</td>\n",
       "      <td>0.0</td>\n",
       "      <td>0.0</td>\n",
       "      <td>0.0</td>\n",
       "      <td>...</td>\n",
       "      <td>0.0</td>\n",
       "      <td>0.0</td>\n",
       "      <td>0.0</td>\n",
       "      <td>0.0</td>\n",
       "      <td>0.0</td>\n",
       "      <td>0.0</td>\n",
       "      <td>0.0</td>\n",
       "      <td>0.0</td>\n",
       "      <td>0.0</td>\n",
       "      <td>0.0</td>\n",
       "    </tr>\n",
       "  </tbody>\n",
       "</table>\n",
       "<p>1 rows × 100 columns</p>\n",
       "</div>"
      ],
      "text/plain": [
       "   activar  actualización  ahora   al  alta  aplicación  app  banco  bancos  \\\n",
       "0      0.0            0.0    0.0  0.0   0.0         0.0  0.0    0.0     0.0   \n",
       "\n",
       "   bien  ...  token  transferencia  transferencias  transferir   un  una  \\\n",
       "0   0.0  ...    0.0            0.0             0.0         0.0  0.0  0.0   \n",
       "\n",
       "   usar  veces  vez   ya  \n",
       "0   0.0    0.0  0.0  0.0  \n",
       "\n",
       "[1 rows x 100 columns]"
      ]
     },
     "execution_count": 177,
     "metadata": {},
     "output_type": "execute_result"
    }
   ],
   "source": [
    "pd.DataFrame(vectorizer_TFID.transform([\"ASdsda\"]).toarray(),columns = vectorizer_TFID.get_feature_names())"
   ]
  },
  {
   "cell_type": "code",
   "execution_count": null,
   "metadata": {},
   "outputs": [],
   "source": []
  },
  {
   "cell_type": "code",
   "execution_count": 95,
   "metadata": {
    "ExecuteTime": {
     "end_time": "2022-03-29T02:09:26.473057Z",
     "start_time": "2022-03-29T02:09:26.106875Z"
    },
    "scrolled": true
   },
   "outputs": [],
   "source": [
    "xt_tfid = pd.DataFrame(vectorizer_TFID.transform(xt).toarray(), columns = vectorizer_TFID.get_feature_names())\n",
    "xv_tfid = pd.DataFrame(vectorizer_TFID.transform(xv).toarray(), columns = vectorizer_TFID.get_feature_names())"
   ]
  },
  {
   "cell_type": "code",
   "execution_count": 96,
   "metadata": {
    "ExecuteTime": {
     "end_time": "2022-03-29T02:09:26.769142Z",
     "start_time": "2022-03-29T02:09:26.759846Z"
    }
   },
   "outputs": [],
   "source": [
    "from sklearn.linear_model import LogisticRegression\n",
    "from sklearn.metrics import roc_auc_score, accuracy_score ,f1_score"
   ]
  },
  {
   "cell_type": "markdown",
   "metadata": {},
   "source": [
    "## Logistic Regression"
   ]
  },
  {
   "cell_type": "code",
   "execution_count": 103,
   "metadata": {
    "ExecuteTime": {
     "end_time": "2022-03-29T02:10:46.266123Z",
     "start_time": "2022-03-29T02:10:46.196612Z"
    }
   },
   "outputs": [
    {
     "data": {
      "text/html": [
       "<div>\n",
       "<style scoped>\n",
       "    .dataframe tbody tr th:only-of-type {\n",
       "        vertical-align: middle;\n",
       "    }\n",
       "\n",
       "    .dataframe tbody tr th {\n",
       "        vertical-align: top;\n",
       "    }\n",
       "\n",
       "    .dataframe thead th {\n",
       "        text-align: right;\n",
       "    }\n",
       "</style>\n",
       "<table border=\"1\" class=\"dataframe\">\n",
       "  <thead>\n",
       "    <tr style=\"text-align: right;\">\n",
       "      <th></th>\n",
       "      <th>activar</th>\n",
       "      <th>actualización</th>\n",
       "      <th>ahora</th>\n",
       "      <th>al</th>\n",
       "      <th>alta</th>\n",
       "      <th>aplicación</th>\n",
       "      <th>app</th>\n",
       "      <th>banco</th>\n",
       "      <th>bancos</th>\n",
       "      <th>bien</th>\n",
       "      <th>...</th>\n",
       "      <th>token</th>\n",
       "      <th>transferencia</th>\n",
       "      <th>transferencias</th>\n",
       "      <th>transferir</th>\n",
       "      <th>un</th>\n",
       "      <th>una</th>\n",
       "      <th>usar</th>\n",
       "      <th>veces</th>\n",
       "      <th>vez</th>\n",
       "      <th>ya</th>\n",
       "    </tr>\n",
       "  </thead>\n",
       "  <tbody>\n",
       "    <tr>\n",
       "      <th>0</th>\n",
       "      <td>0.000000</td>\n",
       "      <td>0.0</td>\n",
       "      <td>0.000000</td>\n",
       "      <td>0.250500</td>\n",
       "      <td>0.0</td>\n",
       "      <td>0.000000</td>\n",
       "      <td>0.000000</td>\n",
       "      <td>0.000000</td>\n",
       "      <td>0.000000</td>\n",
       "      <td>0.317013</td>\n",
       "      <td>...</td>\n",
       "      <td>0.000000</td>\n",
       "      <td>0.000000</td>\n",
       "      <td>0.167488</td>\n",
       "      <td>0.0</td>\n",
       "      <td>0.000000</td>\n",
       "      <td>0.0</td>\n",
       "      <td>0.000000</td>\n",
       "      <td>0.000000</td>\n",
       "      <td>0.0</td>\n",
       "      <td>0.000000</td>\n",
       "    </tr>\n",
       "    <tr>\n",
       "      <th>1</th>\n",
       "      <td>0.000000</td>\n",
       "      <td>0.0</td>\n",
       "      <td>0.000000</td>\n",
       "      <td>0.000000</td>\n",
       "      <td>0.0</td>\n",
       "      <td>0.000000</td>\n",
       "      <td>0.000000</td>\n",
       "      <td>0.000000</td>\n",
       "      <td>0.000000</td>\n",
       "      <td>0.000000</td>\n",
       "      <td>...</td>\n",
       "      <td>0.000000</td>\n",
       "      <td>0.000000</td>\n",
       "      <td>0.283770</td>\n",
       "      <td>0.0</td>\n",
       "      <td>0.000000</td>\n",
       "      <td>0.0</td>\n",
       "      <td>0.000000</td>\n",
       "      <td>0.000000</td>\n",
       "      <td>0.0</td>\n",
       "      <td>0.428812</td>\n",
       "    </tr>\n",
       "    <tr>\n",
       "      <th>2</th>\n",
       "      <td>0.000000</td>\n",
       "      <td>0.0</td>\n",
       "      <td>0.000000</td>\n",
       "      <td>0.000000</td>\n",
       "      <td>0.0</td>\n",
       "      <td>0.000000</td>\n",
       "      <td>0.000000</td>\n",
       "      <td>0.000000</td>\n",
       "      <td>0.000000</td>\n",
       "      <td>0.000000</td>\n",
       "      <td>...</td>\n",
       "      <td>0.000000</td>\n",
       "      <td>0.000000</td>\n",
       "      <td>0.317976</td>\n",
       "      <td>0.0</td>\n",
       "      <td>0.000000</td>\n",
       "      <td>0.0</td>\n",
       "      <td>0.000000</td>\n",
       "      <td>0.000000</td>\n",
       "      <td>0.0</td>\n",
       "      <td>0.000000</td>\n",
       "    </tr>\n",
       "    <tr>\n",
       "      <th>3</th>\n",
       "      <td>0.000000</td>\n",
       "      <td>0.0</td>\n",
       "      <td>0.000000</td>\n",
       "      <td>0.000000</td>\n",
       "      <td>0.0</td>\n",
       "      <td>0.139164</td>\n",
       "      <td>0.000000</td>\n",
       "      <td>0.000000</td>\n",
       "      <td>0.189641</td>\n",
       "      <td>0.000000</td>\n",
       "      <td>...</td>\n",
       "      <td>0.000000</td>\n",
       "      <td>0.000000</td>\n",
       "      <td>0.208623</td>\n",
       "      <td>0.0</td>\n",
       "      <td>0.288613</td>\n",
       "      <td>0.0</td>\n",
       "      <td>0.000000</td>\n",
       "      <td>0.000000</td>\n",
       "      <td>0.0</td>\n",
       "      <td>0.157627</td>\n",
       "    </tr>\n",
       "    <tr>\n",
       "      <th>4</th>\n",
       "      <td>0.000000</td>\n",
       "      <td>0.0</td>\n",
       "      <td>0.000000</td>\n",
       "      <td>0.000000</td>\n",
       "      <td>0.0</td>\n",
       "      <td>0.133383</td>\n",
       "      <td>0.131248</td>\n",
       "      <td>0.000000</td>\n",
       "      <td>0.000000</td>\n",
       "      <td>0.000000</td>\n",
       "      <td>...</td>\n",
       "      <td>0.000000</td>\n",
       "      <td>0.131574</td>\n",
       "      <td>0.199957</td>\n",
       "      <td>0.0</td>\n",
       "      <td>0.138312</td>\n",
       "      <td>0.0</td>\n",
       "      <td>0.000000</td>\n",
       "      <td>0.409009</td>\n",
       "      <td>0.0</td>\n",
       "      <td>0.000000</td>\n",
       "    </tr>\n",
       "    <tr>\n",
       "      <th>...</th>\n",
       "      <td>...</td>\n",
       "      <td>...</td>\n",
       "      <td>...</td>\n",
       "      <td>...</td>\n",
       "      <td>...</td>\n",
       "      <td>...</td>\n",
       "      <td>...</td>\n",
       "      <td>...</td>\n",
       "      <td>...</td>\n",
       "      <td>...</td>\n",
       "      <td>...</td>\n",
       "      <td>...</td>\n",
       "      <td>...</td>\n",
       "      <td>...</td>\n",
       "      <td>...</td>\n",
       "      <td>...</td>\n",
       "      <td>...</td>\n",
       "      <td>...</td>\n",
       "      <td>...</td>\n",
       "      <td>...</td>\n",
       "      <td>...</td>\n",
       "    </tr>\n",
       "    <tr>\n",
       "      <th>5221</th>\n",
       "      <td>0.000000</td>\n",
       "      <td>0.0</td>\n",
       "      <td>0.000000</td>\n",
       "      <td>0.514196</td>\n",
       "      <td>0.0</td>\n",
       "      <td>0.000000</td>\n",
       "      <td>0.000000</td>\n",
       "      <td>0.261063</td>\n",
       "      <td>0.000000</td>\n",
       "      <td>0.000000</td>\n",
       "      <td>...</td>\n",
       "      <td>0.177095</td>\n",
       "      <td>0.000000</td>\n",
       "      <td>0.000000</td>\n",
       "      <td>0.0</td>\n",
       "      <td>0.000000</td>\n",
       "      <td>0.0</td>\n",
       "      <td>0.000000</td>\n",
       "      <td>0.000000</td>\n",
       "      <td>0.0</td>\n",
       "      <td>0.000000</td>\n",
       "    </tr>\n",
       "    <tr>\n",
       "      <th>5222</th>\n",
       "      <td>0.000000</td>\n",
       "      <td>0.0</td>\n",
       "      <td>0.000000</td>\n",
       "      <td>0.000000</td>\n",
       "      <td>0.0</td>\n",
       "      <td>0.000000</td>\n",
       "      <td>0.000000</td>\n",
       "      <td>0.000000</td>\n",
       "      <td>0.000000</td>\n",
       "      <td>0.000000</td>\n",
       "      <td>...</td>\n",
       "      <td>0.000000</td>\n",
       "      <td>0.000000</td>\n",
       "      <td>0.000000</td>\n",
       "      <td>0.0</td>\n",
       "      <td>0.000000</td>\n",
       "      <td>0.0</td>\n",
       "      <td>0.000000</td>\n",
       "      <td>0.000000</td>\n",
       "      <td>0.0</td>\n",
       "      <td>0.000000</td>\n",
       "    </tr>\n",
       "    <tr>\n",
       "      <th>5223</th>\n",
       "      <td>0.000000</td>\n",
       "      <td>0.0</td>\n",
       "      <td>0.388692</td>\n",
       "      <td>0.000000</td>\n",
       "      <td>0.0</td>\n",
       "      <td>0.000000</td>\n",
       "      <td>0.253404</td>\n",
       "      <td>0.000000</td>\n",
       "      <td>0.000000</td>\n",
       "      <td>0.000000</td>\n",
       "      <td>...</td>\n",
       "      <td>0.198865</td>\n",
       "      <td>0.000000</td>\n",
       "      <td>0.000000</td>\n",
       "      <td>0.0</td>\n",
       "      <td>0.267042</td>\n",
       "      <td>0.0</td>\n",
       "      <td>0.416431</td>\n",
       "      <td>0.000000</td>\n",
       "      <td>0.0</td>\n",
       "      <td>0.000000</td>\n",
       "    </tr>\n",
       "    <tr>\n",
       "      <th>5224</th>\n",
       "      <td>0.000000</td>\n",
       "      <td>0.0</td>\n",
       "      <td>0.000000</td>\n",
       "      <td>0.000000</td>\n",
       "      <td>0.0</td>\n",
       "      <td>0.000000</td>\n",
       "      <td>0.244649</td>\n",
       "      <td>0.000000</td>\n",
       "      <td>0.000000</td>\n",
       "      <td>0.000000</td>\n",
       "      <td>...</td>\n",
       "      <td>0.000000</td>\n",
       "      <td>0.000000</td>\n",
       "      <td>0.186361</td>\n",
       "      <td>0.0</td>\n",
       "      <td>0.000000</td>\n",
       "      <td>0.0</td>\n",
       "      <td>0.000000</td>\n",
       "      <td>0.000000</td>\n",
       "      <td>0.0</td>\n",
       "      <td>0.000000</td>\n",
       "    </tr>\n",
       "    <tr>\n",
       "      <th>5225</th>\n",
       "      <td>0.585847</td>\n",
       "      <td>0.0</td>\n",
       "      <td>0.000000</td>\n",
       "      <td>0.000000</td>\n",
       "      <td>0.0</td>\n",
       "      <td>0.000000</td>\n",
       "      <td>0.000000</td>\n",
       "      <td>0.000000</td>\n",
       "      <td>0.000000</td>\n",
       "      <td>0.000000</td>\n",
       "      <td>...</td>\n",
       "      <td>0.375563</td>\n",
       "      <td>0.000000</td>\n",
       "      <td>0.000000</td>\n",
       "      <td>0.0</td>\n",
       "      <td>0.000000</td>\n",
       "      <td>0.0</td>\n",
       "      <td>0.000000</td>\n",
       "      <td>0.000000</td>\n",
       "      <td>0.0</td>\n",
       "      <td>0.000000</td>\n",
       "    </tr>\n",
       "  </tbody>\n",
       "</table>\n",
       "<p>5226 rows × 100 columns</p>\n",
       "</div>"
      ],
      "text/plain": [
       "       activar  actualización     ahora        al  alta  aplicación       app  \\\n",
       "0     0.000000            0.0  0.000000  0.250500   0.0    0.000000  0.000000   \n",
       "1     0.000000            0.0  0.000000  0.000000   0.0    0.000000  0.000000   \n",
       "2     0.000000            0.0  0.000000  0.000000   0.0    0.000000  0.000000   \n",
       "3     0.000000            0.0  0.000000  0.000000   0.0    0.139164  0.000000   \n",
       "4     0.000000            0.0  0.000000  0.000000   0.0    0.133383  0.131248   \n",
       "...        ...            ...       ...       ...   ...         ...       ...   \n",
       "5221  0.000000            0.0  0.000000  0.514196   0.0    0.000000  0.000000   \n",
       "5222  0.000000            0.0  0.000000  0.000000   0.0    0.000000  0.000000   \n",
       "5223  0.000000            0.0  0.388692  0.000000   0.0    0.000000  0.253404   \n",
       "5224  0.000000            0.0  0.000000  0.000000   0.0    0.000000  0.244649   \n",
       "5225  0.585847            0.0  0.000000  0.000000   0.0    0.000000  0.000000   \n",
       "\n",
       "         banco    bancos      bien  ...     token  transferencia  \\\n",
       "0     0.000000  0.000000  0.317013  ...  0.000000       0.000000   \n",
       "1     0.000000  0.000000  0.000000  ...  0.000000       0.000000   \n",
       "2     0.000000  0.000000  0.000000  ...  0.000000       0.000000   \n",
       "3     0.000000  0.189641  0.000000  ...  0.000000       0.000000   \n",
       "4     0.000000  0.000000  0.000000  ...  0.000000       0.131574   \n",
       "...        ...       ...       ...  ...       ...            ...   \n",
       "5221  0.261063  0.000000  0.000000  ...  0.177095       0.000000   \n",
       "5222  0.000000  0.000000  0.000000  ...  0.000000       0.000000   \n",
       "5223  0.000000  0.000000  0.000000  ...  0.198865       0.000000   \n",
       "5224  0.000000  0.000000  0.000000  ...  0.000000       0.000000   \n",
       "5225  0.000000  0.000000  0.000000  ...  0.375563       0.000000   \n",
       "\n",
       "      transferencias  transferir        un  una      usar     veces  vez  \\\n",
       "0           0.167488         0.0  0.000000  0.0  0.000000  0.000000  0.0   \n",
       "1           0.283770         0.0  0.000000  0.0  0.000000  0.000000  0.0   \n",
       "2           0.317976         0.0  0.000000  0.0  0.000000  0.000000  0.0   \n",
       "3           0.208623         0.0  0.288613  0.0  0.000000  0.000000  0.0   \n",
       "4           0.199957         0.0  0.138312  0.0  0.000000  0.409009  0.0   \n",
       "...              ...         ...       ...  ...       ...       ...  ...   \n",
       "5221        0.000000         0.0  0.000000  0.0  0.000000  0.000000  0.0   \n",
       "5222        0.000000         0.0  0.000000  0.0  0.000000  0.000000  0.0   \n",
       "5223        0.000000         0.0  0.267042  0.0  0.416431  0.000000  0.0   \n",
       "5224        0.186361         0.0  0.000000  0.0  0.000000  0.000000  0.0   \n",
       "5225        0.000000         0.0  0.000000  0.0  0.000000  0.000000  0.0   \n",
       "\n",
       "            ya  \n",
       "0     0.000000  \n",
       "1     0.428812  \n",
       "2     0.000000  \n",
       "3     0.157627  \n",
       "4     0.000000  \n",
       "...        ...  \n",
       "5221  0.000000  \n",
       "5222  0.000000  \n",
       "5223  0.000000  \n",
       "5224  0.000000  \n",
       "5225  0.000000  \n",
       "\n",
       "[5226 rows x 100 columns]"
      ]
     },
     "execution_count": 103,
     "metadata": {},
     "output_type": "execute_result"
    }
   ],
   "source": [
    "xt_tfid"
   ]
  },
  {
   "cell_type": "code",
   "execution_count": 105,
   "metadata": {
    "ExecuteTime": {
     "end_time": "2022-03-29T02:12:09.246270Z",
     "start_time": "2022-03-29T02:12:09.235758Z"
    }
   },
   "outputs": [],
   "source": [
    "from sklearn.model_selection import RandomizedSearchCV"
   ]
  },
  {
   "cell_type": "code",
   "execution_count": null,
   "metadata": {},
   "outputs": [],
   "source": []
  },
  {
   "cell_type": "code",
   "execution_count": 148,
   "metadata": {
    "ExecuteTime": {
     "end_time": "2022-03-29T02:28:49.229228Z",
     "start_time": "2022-03-29T02:27:36.248366Z"
    }
   },
   "outputs": [
    {
     "data": {
      "text/plain": [
       "RandomizedSearchCV(cv=5,\n",
       "                   estimator=LogisticRegression(penalty='elasticnet',\n",
       "                                                solver='saga'),\n",
       "                   n_iter=50,\n",
       "                   param_distributions={'C': array([0.1, 0.2, 0.3, 0.4, 0.5, 0.6, 0.7, 0.8, 0.9, 1. , 1.1, 1.2, 1.3,\n",
       "       1.4, 1.5, 1.6, 1.7, 1.8, 1.9, 2. , 2.1, 2.2, 2.3, 2.4, 2.5, 2.6,\n",
       "       2.7, 2.8, 2.9, 3. , 3.1, 3.2, 3.3, 3.4, 3.5, 3.6, 3.7, 3.8, 3.9,\n",
       "       4. , 4.1, 4.2, 4.3, 4.4, 4.5, 4.6, 4.7, 4.8, 4.9]),\n",
       "                                        'class_weight': [{0: 0.1, 1: 0.9},\n",
       "                                                         {0: 0.2, 1: 0.8},\n",
       "                                                         {0: 0.30000000000000004,\n",
       "                                                          1: 0.7},\n",
       "                                                         {0: 0.4, 1: 0.6},\n",
       "                                                         {0: 0.5, 1: 0.5},\n",
       "                                                         {0: 0.6, 1: 0.4},\n",
       "                                                         {0: 0.7000000000000001,\n",
       "                                                          1: 0.29999999999999993},\n",
       "                                                         {0: 0.8,\n",
       "                                                          1: 0.19999999999999996},\n",
       "                                                         {0: 0.9,\n",
       "                                                          1: 0.09999999999999998},\n",
       "                                                         {0: 1.0, 1: 0.0}],\n",
       "                                        'l1_ratio': array([0.1, 0.2, 0.3, 0.4, 0.5, 0.6, 0.7, 0.8, 0.9, 1. ])},\n",
       "                   random_state=42, return_train_score=True, scoring='f1')"
      ]
     },
     "execution_count": 148,
     "metadata": {},
     "output_type": "execute_result"
    }
   ],
   "source": [
    "hiperparametros_logistica = {'C': np.arange(0.1,5,0.1),\n",
    "                            'class_weight': [{0:x,1:1-x} for x in np.arange(0.1,1.1,0.1)],\n",
    "                            'l1_ratio': np.arange(0.1,1.1,0.1)}\n",
    "\n",
    "grid_logistica = RandomizedSearchCV(estimator= LogisticRegression(penalty = \"elasticnet\",solver = \"saga\"),\n",
    "                                   param_distributions = hiperparametros_logistica,\n",
    "                                   scoring = \"f1\",n_iter=50,\n",
    "                                   cv = 5,\n",
    "                                   return_train_score = True,\n",
    "                                   random_state=42)\n",
    "\n",
    "grid_logistica.fit(xt_tfid,yt)"
   ]
  },
  {
   "cell_type": "code",
   "execution_count": 149,
   "metadata": {
    "ExecuteTime": {
     "end_time": "2022-03-29T02:28:49.534006Z",
     "start_time": "2022-03-29T02:28:49.517500Z"
    }
   },
   "outputs": [
    {
     "data": {
      "text/plain": [
       "LogisticRegression(C=2.8000000000000003, class_weight={0: 0.2, 1: 0.8},\n",
       "                   l1_ratio=0.9, penalty='elasticnet', solver='saga')"
      ]
     },
     "execution_count": 149,
     "metadata": {},
     "output_type": "execute_result"
    }
   ],
   "source": [
    "best_logistic_model = grid_logistica.best_estimator_\n",
    "best_logistic_model"
   ]
  },
  {
   "cell_type": "code",
   "execution_count": 150,
   "metadata": {
    "ExecuteTime": {
     "end_time": "2022-03-29T02:28:50.230742Z",
     "start_time": "2022-03-29T02:28:49.547175Z"
    }
   },
   "outputs": [
    {
     "data": {
      "text/plain": [
       "LogisticRegression(C=2.8000000000000003, class_weight={0: 0.2, 1: 0.8},\n",
       "                   l1_ratio=0.9, penalty='elasticnet', solver='saga')"
      ]
     },
     "execution_count": 150,
     "metadata": {},
     "output_type": "execute_result"
    }
   ],
   "source": [
    "best_logistic_model.fit(xt_tfid, yt)"
   ]
  },
  {
   "cell_type": "code",
   "execution_count": 151,
   "metadata": {
    "ExecuteTime": {
     "end_time": "2022-03-29T02:28:50.255535Z",
     "start_time": "2022-03-29T02:28:50.234100Z"
    }
   },
   "outputs": [
    {
     "data": {
      "text/plain": [
       "0.9099328548275064"
      ]
     },
     "execution_count": 151,
     "metadata": {},
     "output_type": "execute_result"
    }
   ],
   "source": [
    "f1_score(y_true = yt, y_pred= best_logistic_model.predict(xt_tfid))"
   ]
  },
  {
   "cell_type": "code",
   "execution_count": 152,
   "metadata": {
    "ExecuteTime": {
     "end_time": "2022-03-29T02:28:51.168867Z",
     "start_time": "2022-03-29T02:28:51.137493Z"
    }
   },
   "outputs": [
    {
     "data": {
      "text/plain": [
       "0.9032620922384702"
      ]
     },
     "execution_count": 152,
     "metadata": {},
     "output_type": "execute_result"
    }
   ],
   "source": [
    "f1_score(y_true = yv, y_pred= best_logistic_model.predict(xv_tfid))"
   ]
  },
  {
   "cell_type": "code",
   "execution_count": 183,
   "metadata": {
    "ExecuteTime": {
     "end_time": "2022-03-29T04:40:48.156566Z",
     "start_time": "2022-03-29T04:40:48.145638Z"
    }
   },
   "outputs": [],
   "source": [
    "pickle.dump(best_logistic_model, open(\"logistic_model.pickle\", \"wb\"))"
   ]
  },
  {
   "cell_type": "code",
   "execution_count": 180,
   "metadata": {
    "ExecuteTime": {
     "end_time": "2022-03-29T04:23:10.837303Z",
     "start_time": "2022-03-29T04:23:10.820117Z"
    }
   },
   "outputs": [
    {
     "data": {
      "text/plain": [
       "0    dsfd\n",
       "dtype: object"
      ]
     },
     "execution_count": 180,
     "metadata": {},
     "output_type": "execute_result"
    }
   ],
   "source": [
    "pd.Series([\"dsfd\"])"
   ]
  },
  {
   "cell_type": "markdown",
   "metadata": {},
   "source": [
    "#### Decision tree"
   ]
  },
  {
   "cell_type": "code",
   "execution_count": 124,
   "metadata": {
    "ExecuteTime": {
     "end_time": "2022-03-29T02:20:33.884229Z",
     "start_time": "2022-03-29T02:20:33.877794Z"
    }
   },
   "outputs": [],
   "source": [
    "from sklearn.tree import DecisionTreeClassifier"
   ]
  },
  {
   "cell_type": "code",
   "execution_count": 143,
   "metadata": {
    "ExecuteTime": {
     "end_time": "2022-03-29T02:27:34.353844Z",
     "start_time": "2022-03-29T02:27:00.314045Z"
    }
   },
   "outputs": [
    {
     "data": {
      "text/plain": [
       "RandomizedSearchCV(cv=5, estimator=DecisionTreeClassifier(random_state=42),\n",
       "                   n_iter=100,\n",
       "                   param_distributions={'class_weight': [{0: 0.1, 1: 0.9},\n",
       "                                                         {0: 0.2, 1: 0.8},\n",
       "                                                         {0: 0.30000000000000004,\n",
       "                                                          1: 0.7},\n",
       "                                                         {0: 0.4, 1: 0.6},\n",
       "                                                         {0: 0.5, 1: 0.5},\n",
       "                                                         {0: 0.6, 1: 0.4},\n",
       "                                                         {0: 0.7000000000000001,\n",
       "                                                          1: 0.29999999999999993},\n",
       "                                                         {0: 0.8,\n",
       "                                                          1: 0.19999999999999996},\n",
       "                                                         {0: 0.9,\n",
       "                                                          1: 0.09999999999999998},\n",
       "                                                         {0: 1.0, 1: 0.0}],\n",
       "                                        'criterion': ['gini', 'entropy'],\n",
       "                                        'max_depth': [4, 6, 8, 10, 12, 16, 18],\n",
       "                                        'max_features': ['auto', 'sqrt', 'log2',\n",
       "                                                         None],\n",
       "                                        'min_samples_split': [2, 4, 6, 8]},\n",
       "                   random_state=42, return_train_score=True, scoring='f1')"
      ]
     },
     "execution_count": 143,
     "metadata": {},
     "output_type": "execute_result"
    }
   ],
   "source": [
    "hiperparametros_tree = {'max_depth': [4,6,8,10,12,16,18],\n",
    "                        'class_weight': [{0:x,1:1-x} for x in np.arange(0.1,1.1,0.1)],\n",
    "                        'criterion':[\"gini\",\"entropy\"],\n",
    "                        'min_samples_split': [2,4,6,8],\n",
    "                        'max_features':['auto',\"sqrt\",\"log2\",None]\n",
    "                        }\n",
    "\n",
    "grid_tree = RandomizedSearchCV(estimator= DecisionTreeClassifier(random_state=42,),\n",
    "                                   param_distributions = hiperparametros_tree,\n",
    "                                   scoring = \"f1\",n_iter=100,\n",
    "                                   cv = 5,\n",
    "                                   return_train_score = True,\n",
    "                                   random_state=42)\n",
    "\n",
    "grid_tree.fit(xt_tfid,yt)"
   ]
  },
  {
   "cell_type": "code",
   "execution_count": 144,
   "metadata": {
    "ExecuteTime": {
     "end_time": "2022-03-29T02:27:34.712532Z",
     "start_time": "2022-03-29T02:27:34.697168Z"
    }
   },
   "outputs": [
    {
     "data": {
      "text/plain": [
       "DecisionTreeClassifier(class_weight={0: 0.2, 1: 0.8}, criterion='entropy',\n",
       "                       max_depth=4, min_samples_split=6, random_state=42)"
      ]
     },
     "execution_count": 144,
     "metadata": {},
     "output_type": "execute_result"
    }
   ],
   "source": [
    "best_tree_model = grid_tree.best_estimator_\n",
    "best_tree_model"
   ]
  },
  {
   "cell_type": "code",
   "execution_count": 145,
   "metadata": {
    "ExecuteTime": {
     "end_time": "2022-03-29T02:27:35.201702Z",
     "start_time": "2022-03-29T02:27:35.062870Z"
    }
   },
   "outputs": [
    {
     "data": {
      "text/plain": [
       "DecisionTreeClassifier(class_weight={0: 0.2, 1: 0.8}, criterion='entropy',\n",
       "                       max_depth=4, min_samples_split=6, random_state=42)"
      ]
     },
     "execution_count": 145,
     "metadata": {},
     "output_type": "execute_result"
    }
   ],
   "source": [
    "best_tree_model.fit(xt_tfid,yt)"
   ]
  },
  {
   "cell_type": "code",
   "execution_count": 146,
   "metadata": {
    "ExecuteTime": {
     "end_time": "2022-03-29T02:27:35.526905Z",
     "start_time": "2022-03-29T02:27:35.496279Z"
    }
   },
   "outputs": [
    {
     "data": {
      "text/plain": [
       "0.9075747046560111"
      ]
     },
     "execution_count": 146,
     "metadata": {},
     "output_type": "execute_result"
    }
   ],
   "source": [
    "f1_score(y_true = yt, y_pred= best_tree_model.predict(xt_tfid))"
   ]
  },
  {
   "cell_type": "code",
   "execution_count": 147,
   "metadata": {
    "ExecuteTime": {
     "end_time": "2022-03-29T02:27:35.878206Z",
     "start_time": "2022-03-29T02:27:35.855962Z"
    }
   },
   "outputs": [
    {
     "data": {
      "text/plain": [
       "0.8834841628959277"
      ]
     },
     "execution_count": 147,
     "metadata": {},
     "output_type": "execute_result"
    }
   ],
   "source": [
    "f1_score(y_true = yv, y_pred= best_tree_model.predict(xv_tfid))"
   ]
  },
  {
   "cell_type": "code",
   "execution_count": 192,
   "metadata": {
    "ExecuteTime": {
     "end_time": "2022-03-29T05:27:01.630811Z",
     "start_time": "2022-03-29T05:27:01.615302Z"
    }
   },
   "outputs": [
    {
     "data": {
      "text/plain": [
       "array(['Que paso con la app, al abrir se cierra después de unos segundos, nunca me había pasado, arreglen eso por favor ya que hay muchos que usamos la app casi a diario, aparte es un show para hacer transferencias o comprar tiempo aire, se que es mas seguro en la forma como lo hacen pero no sirve de nada si es demasiado tardado o no se puede, siempre opto por usar otra app o así, estaría bien que cambiaran eso, es muy tedioso la verdad.',\n",
       "       'No funciona, después de más de una hora entre descargas, instalaciones y autenticaciones resulta que debo ir a la sucursal y todo porque realizaron un cambio derivado de la geolocalización por Ley donde me indicaron hacer la reinstalación. Pero solo resultó un problema con ustedes, afortunadamente en mi cuenta de nómina con otro banco fué realmente simple. El problema fue resuelto y finalmente pude hacer la transferencia. Muchas gracias,',\n",
       "       'La app ha intentado mejorar desde el 2019, pero ahora no permite realizar transferencias tarda mucho en enviar el correo para comprobar la identidad y no reconoce el número que envían, además no envía el SMS al celular, si se vuelve a hacer el proceso memciona que no se puede enviar el código, entonces que hacer? Si pudiera pornerle 0 o un número negativo a la app lo haría sin pensarlo.',\n",
       "       ...,\n",
       "       'TENGO MAS DE 2 HORAS QUE HICE UNA TRANSFERENCIA Y NO SE REFLEJA. EN MIS OTRAS APP DE OTROS BANCOS JAMÁS PASA ESTO',\n",
       "       'Rápido, acceso a saldo, movimientos, transferencias.',\n",
       "       'Quiero hacer trafercias a otros bancos y nisiquiera aparecen activadas las cuentas para transferir. Ya cuento con el súper token y ni así puede realizar el movimiento.'],\n",
       "      dtype=object)"
      ]
     },
     "execution_count": 192,
     "metadata": {},
     "output_type": "execute_result"
    }
   ],
   "source": [
    "data[data[\"y\"] == 0]['content'].values"
   ]
  },
  {
   "cell_type": "code",
   "execution_count": 169,
   "metadata": {
    "ExecuteTime": {
     "end_time": "2022-03-29T03:48:34.734537Z",
     "start_time": "2022-03-29T03:48:34.722251Z"
    }
   },
   "outputs": [
    {
     "data": {
      "text/plain": [
       "'La unica razón por la que no le pongo 5 estrellas es porque no es rápida al momento de hacer transferencias, todo lo demás muy bien 👍'"
      ]
     },
     "execution_count": 169,
     "metadata": {},
     "output_type": "execute_result"
    }
   ],
   "source": [
    "xt.values[0[[]]]"
   ]
  },
  {
   "cell_type": "markdown",
   "metadata": {},
   "source": [
    "### Random Forest"
   ]
  },
  {
   "cell_type": "code",
   "execution_count": 153,
   "metadata": {
    "ExecuteTime": {
     "end_time": "2022-03-29T02:30:16.390755Z",
     "start_time": "2022-03-29T02:30:16.386743Z"
    }
   },
   "outputs": [],
   "source": [
    "from sklearn.ensemble import RandomForestClassifier"
   ]
  },
  {
   "cell_type": "code",
   "execution_count": 154,
   "metadata": {
    "ExecuteTime": {
     "end_time": "2022-03-29T02:34:49.781200Z",
     "start_time": "2022-03-29T02:31:01.186645Z"
    }
   },
   "outputs": [
    {
     "data": {
      "text/plain": [
       "RandomizedSearchCV(cv=5, estimator=RandomForestClassifier(random_state=42),\n",
       "                   n_iter=20,\n",
       "                   param_distributions={'class_weight': [{0: 0.1, 1: 0.9},\n",
       "                                                         {0: 0.2, 1: 0.8},\n",
       "                                                         {0: 0.30000000000000004,\n",
       "                                                          1: 0.7},\n",
       "                                                         {0: 0.4, 1: 0.6},\n",
       "                                                         {0: 0.5, 1: 0.5},\n",
       "                                                         {0: 0.6, 1: 0.4},\n",
       "                                                         {0: 0.7000000000000001,\n",
       "                                                          1: 0.29999999999999993},\n",
       "                                                         {0: 0.8,\n",
       "                                                          1: 0.19999999999999996},\n",
       "                                                         {0: 0.9,\n",
       "                                                          1: 0.09999999999999998},\n",
       "                                                         {0: 1.0, 1: 0.0}],\n",
       "                                        'criterion': ['gini', 'entropy'],\n",
       "                                        'max_depth': [4, 6, 8, 10, 12, 16, 18],\n",
       "                                        'max_features': ['auto', 'sqrt', 'log2',\n",
       "                                                         None],\n",
       "                                        'min_samples_split': [2, 4, 6, 8]},\n",
       "                   random_state=42, return_train_score=True, scoring='f1')"
      ]
     },
     "execution_count": 154,
     "metadata": {},
     "output_type": "execute_result"
    }
   ],
   "source": [
    "hiperparametros_rf = {'max_depth': [4,6,8,10,12,16,18],\n",
    "                        'class_weight': [{0:x,1:1-x} for x in np.arange(0.1,1.1,0.1)],\n",
    "                        'criterion':[\"gini\",\"entropy\"],\n",
    "                        'min_samples_split': [2,4,6,8],\n",
    "                        'max_features':['auto',\"sqrt\",\"log2\",None]\n",
    "                        }\n",
    "\n",
    "grid_rf = RandomizedSearchCV(estimator= RandomForestClassifier(random_state=42,),\n",
    "                                   param_distributions = hiperparametros_rf,\n",
    "                                   scoring = \"f1\",n_iter=20,\n",
    "                                   cv = 5,\n",
    "                                   return_train_score = True,\n",
    "                                   random_state=42)\n",
    "\n",
    "grid_rf.fit(xt_tfid,yt)"
   ]
  },
  {
   "cell_type": "code",
   "execution_count": 155,
   "metadata": {
    "ExecuteTime": {
     "end_time": "2022-03-29T02:34:50.109017Z",
     "start_time": "2022-03-29T02:34:50.094232Z"
    }
   },
   "outputs": [
    {
     "data": {
      "text/plain": [
       "RandomForestClassifier(class_weight={0: 0.30000000000000004, 1: 0.7},\n",
       "                       max_depth=4, max_features='log2', min_samples_split=8,\n",
       "                       random_state=42)"
      ]
     },
     "execution_count": 155,
     "metadata": {},
     "output_type": "execute_result"
    }
   ],
   "source": [
    "best_rf_model = grid_rf.best_estimator_\n",
    "best_rf_model "
   ]
  },
  {
   "cell_type": "code",
   "execution_count": 156,
   "metadata": {
    "ExecuteTime": {
     "end_time": "2022-03-29T02:34:51.168003Z",
     "start_time": "2022-03-29T02:34:50.467499Z"
    }
   },
   "outputs": [
    {
     "data": {
      "text/plain": [
       "RandomForestClassifier(class_weight={0: 0.30000000000000004, 1: 0.7},\n",
       "                       max_depth=4, max_features='log2', min_samples_split=8,\n",
       "                       random_state=42)"
      ]
     },
     "execution_count": 156,
     "metadata": {},
     "output_type": "execute_result"
    }
   ],
   "source": [
    "best_rf_model.fit(xt_tfid,yt)"
   ]
  },
  {
   "cell_type": "code",
   "execution_count": 157,
   "metadata": {
    "ExecuteTime": {
     "end_time": "2022-03-29T02:34:51.604903Z",
     "start_time": "2022-03-29T02:34:51.452245Z"
    }
   },
   "outputs": [
    {
     "data": {
      "text/plain": [
       "0.9039780521262002"
      ]
     },
     "execution_count": 157,
     "metadata": {},
     "output_type": "execute_result"
    }
   ],
   "source": [
    "f1_score(y_true = yt, y_pred= best_rf_model.predict(xt_tfid))"
   ]
  },
  {
   "cell_type": "code",
   "execution_count": 158,
   "metadata": {
    "ExecuteTime": {
     "end_time": "2022-03-29T02:34:52.032642Z",
     "start_time": "2022-03-29T02:34:51.929043Z"
    }
   },
   "outputs": [
    {
     "data": {
      "text/plain": [
       "0.8952908587257619"
      ]
     },
     "execution_count": 158,
     "metadata": {},
     "output_type": "execute_result"
    }
   ],
   "source": [
    "f1_score(y_true = yv, y_pred= best_rf_model.predict(xv_tfid))"
   ]
  },
  {
   "cell_type": "code",
   "execution_count": 163,
   "metadata": {
    "ExecuteTime": {
     "end_time": "2022-03-29T02:37:27.840132Z",
     "start_time": "2022-03-29T02:37:27.793401Z"
    }
   },
   "outputs": [
    {
     "data": {
      "text/html": [
       "<div>\n",
       "<style scoped>\n",
       "    .dataframe tbody tr th:only-of-type {\n",
       "        vertical-align: middle;\n",
       "    }\n",
       "\n",
       "    .dataframe tbody tr th {\n",
       "        vertical-align: top;\n",
       "    }\n",
       "\n",
       "    .dataframe thead th {\n",
       "        text-align: right;\n",
       "    }\n",
       "</style>\n",
       "<table border=\"1\" class=\"dataframe\">\n",
       "  <thead>\n",
       "    <tr style=\"text-align: right;\">\n",
       "      <th></th>\n",
       "      <th>var</th>\n",
       "      <th>feature_importance</th>\n",
       "    </tr>\n",
       "  </thead>\n",
       "  <tbody>\n",
       "    <tr>\n",
       "      <th>90</th>\n",
       "      <td>token</td>\n",
       "      <td>0.296042</td>\n",
       "    </tr>\n",
       "    <tr>\n",
       "      <th>92</th>\n",
       "      <td>transferencias</td>\n",
       "      <td>0.117467</td>\n",
       "    </tr>\n",
       "    <tr>\n",
       "      <th>24</th>\n",
       "      <td>el</td>\n",
       "      <td>0.103302</td>\n",
       "    </tr>\n",
       "    <tr>\n",
       "      <th>91</th>\n",
       "      <td>transferencia</td>\n",
       "      <td>0.079839</td>\n",
       "    </tr>\n",
       "    <tr>\n",
       "      <th>80</th>\n",
       "      <td>supertoken</td>\n",
       "      <td>0.072196</td>\n",
       "    </tr>\n",
       "    <tr>\n",
       "      <th>...</th>\n",
       "      <td>...</td>\n",
       "      <td>...</td>\n",
       "    </tr>\n",
       "    <tr>\n",
       "      <th>39</th>\n",
       "      <td>le</td>\n",
       "      <td>0.000100</td>\n",
       "    </tr>\n",
       "    <tr>\n",
       "      <th>76</th>\n",
       "      <td>solo</td>\n",
       "      <td>0.000099</td>\n",
       "    </tr>\n",
       "    <tr>\n",
       "      <th>42</th>\n",
       "      <td>mala</td>\n",
       "      <td>0.000038</td>\n",
       "    </tr>\n",
       "    <tr>\n",
       "      <th>64</th>\n",
       "      <td>problemas</td>\n",
       "      <td>0.000000</td>\n",
       "    </tr>\n",
       "    <tr>\n",
       "      <th>74</th>\n",
       "      <td>siempre</td>\n",
       "      <td>0.000000</td>\n",
       "    </tr>\n",
       "  </tbody>\n",
       "</table>\n",
       "<p>100 rows × 2 columns</p>\n",
       "</div>"
      ],
      "text/plain": [
       "               var  feature_importance\n",
       "90           token            0.296042\n",
       "92  transferencias            0.117467\n",
       "24              el            0.103302\n",
       "91   transferencia            0.079839\n",
       "80      supertoken            0.072196\n",
       "..             ...                 ...\n",
       "39              le            0.000100\n",
       "76            solo            0.000099\n",
       "42            mala            0.000038\n",
       "64       problemas            0.000000\n",
       "74         siempre            0.000000\n",
       "\n",
       "[100 rows x 2 columns]"
      ]
     },
     "execution_count": 163,
     "metadata": {},
     "output_type": "execute_result"
    }
   ],
   "source": [
    "pd.DataFrame(zip(xt_tfid.columns,best_rf_model.feature_importances_),\n",
    "             columns = [\"var\",\"feature_importance\"]).sort_values(by = \"feature_importance\",ascending = False)"
   ]
  },
  {
   "cell_type": "markdown",
   "metadata": {},
   "source": [
    "## Bootstrap"
   ]
  },
  {
   "cell_type": "code",
   "execution_count": 159,
   "metadata": {
    "ExecuteTime": {
     "end_time": "2022-03-29T02:36:04.548457Z",
     "start_time": "2022-03-29T02:36:04.460639Z"
    }
   },
   "outputs": [
    {
     "data": {
      "text/html": [
       "<div>\n",
       "<style scoped>\n",
       "    .dataframe tbody tr th:only-of-type {\n",
       "        vertical-align: middle;\n",
       "    }\n",
       "\n",
       "    .dataframe tbody tr th {\n",
       "        vertical-align: top;\n",
       "    }\n",
       "\n",
       "    .dataframe thead th {\n",
       "        text-align: right;\n",
       "    }\n",
       "</style>\n",
       "<table border=\"1\" class=\"dataframe\">\n",
       "  <thead>\n",
       "    <tr style=\"text-align: right;\">\n",
       "      <th></th>\n",
       "      <th>activar</th>\n",
       "      <th>actualización</th>\n",
       "      <th>ahora</th>\n",
       "      <th>al</th>\n",
       "      <th>alta</th>\n",
       "      <th>aplicación</th>\n",
       "      <th>app</th>\n",
       "      <th>banco</th>\n",
       "      <th>bancos</th>\n",
       "      <th>bien</th>\n",
       "      <th>...</th>\n",
       "      <th>token</th>\n",
       "      <th>transferencia</th>\n",
       "      <th>transferencias</th>\n",
       "      <th>transferir</th>\n",
       "      <th>un</th>\n",
       "      <th>una</th>\n",
       "      <th>usar</th>\n",
       "      <th>veces</th>\n",
       "      <th>vez</th>\n",
       "      <th>ya</th>\n",
       "    </tr>\n",
       "  </thead>\n",
       "  <tbody>\n",
       "    <tr>\n",
       "      <th>0</th>\n",
       "      <td>0.000000</td>\n",
       "      <td>0.0</td>\n",
       "      <td>0.000000</td>\n",
       "      <td>0.250500</td>\n",
       "      <td>0.0</td>\n",
       "      <td>0.000000</td>\n",
       "      <td>0.000000</td>\n",
       "      <td>0.000000</td>\n",
       "      <td>0.000000</td>\n",
       "      <td>0.317013</td>\n",
       "      <td>...</td>\n",
       "      <td>0.000000</td>\n",
       "      <td>0.000000</td>\n",
       "      <td>0.167488</td>\n",
       "      <td>0.0</td>\n",
       "      <td>0.000000</td>\n",
       "      <td>0.0</td>\n",
       "      <td>0.000000</td>\n",
       "      <td>0.000000</td>\n",
       "      <td>0.0</td>\n",
       "      <td>0.000000</td>\n",
       "    </tr>\n",
       "    <tr>\n",
       "      <th>1</th>\n",
       "      <td>0.000000</td>\n",
       "      <td>0.0</td>\n",
       "      <td>0.000000</td>\n",
       "      <td>0.000000</td>\n",
       "      <td>0.0</td>\n",
       "      <td>0.000000</td>\n",
       "      <td>0.000000</td>\n",
       "      <td>0.000000</td>\n",
       "      <td>0.000000</td>\n",
       "      <td>0.000000</td>\n",
       "      <td>...</td>\n",
       "      <td>0.000000</td>\n",
       "      <td>0.000000</td>\n",
       "      <td>0.283770</td>\n",
       "      <td>0.0</td>\n",
       "      <td>0.000000</td>\n",
       "      <td>0.0</td>\n",
       "      <td>0.000000</td>\n",
       "      <td>0.000000</td>\n",
       "      <td>0.0</td>\n",
       "      <td>0.428812</td>\n",
       "    </tr>\n",
       "    <tr>\n",
       "      <th>2</th>\n",
       "      <td>0.000000</td>\n",
       "      <td>0.0</td>\n",
       "      <td>0.000000</td>\n",
       "      <td>0.000000</td>\n",
       "      <td>0.0</td>\n",
       "      <td>0.000000</td>\n",
       "      <td>0.000000</td>\n",
       "      <td>0.000000</td>\n",
       "      <td>0.000000</td>\n",
       "      <td>0.000000</td>\n",
       "      <td>...</td>\n",
       "      <td>0.000000</td>\n",
       "      <td>0.000000</td>\n",
       "      <td>0.317976</td>\n",
       "      <td>0.0</td>\n",
       "      <td>0.000000</td>\n",
       "      <td>0.0</td>\n",
       "      <td>0.000000</td>\n",
       "      <td>0.000000</td>\n",
       "      <td>0.0</td>\n",
       "      <td>0.000000</td>\n",
       "    </tr>\n",
       "    <tr>\n",
       "      <th>3</th>\n",
       "      <td>0.000000</td>\n",
       "      <td>0.0</td>\n",
       "      <td>0.000000</td>\n",
       "      <td>0.000000</td>\n",
       "      <td>0.0</td>\n",
       "      <td>0.139164</td>\n",
       "      <td>0.000000</td>\n",
       "      <td>0.000000</td>\n",
       "      <td>0.189641</td>\n",
       "      <td>0.000000</td>\n",
       "      <td>...</td>\n",
       "      <td>0.000000</td>\n",
       "      <td>0.000000</td>\n",
       "      <td>0.208623</td>\n",
       "      <td>0.0</td>\n",
       "      <td>0.288613</td>\n",
       "      <td>0.0</td>\n",
       "      <td>0.000000</td>\n",
       "      <td>0.000000</td>\n",
       "      <td>0.0</td>\n",
       "      <td>0.157627</td>\n",
       "    </tr>\n",
       "    <tr>\n",
       "      <th>4</th>\n",
       "      <td>0.000000</td>\n",
       "      <td>0.0</td>\n",
       "      <td>0.000000</td>\n",
       "      <td>0.000000</td>\n",
       "      <td>0.0</td>\n",
       "      <td>0.133383</td>\n",
       "      <td>0.131248</td>\n",
       "      <td>0.000000</td>\n",
       "      <td>0.000000</td>\n",
       "      <td>0.000000</td>\n",
       "      <td>...</td>\n",
       "      <td>0.000000</td>\n",
       "      <td>0.131574</td>\n",
       "      <td>0.199957</td>\n",
       "      <td>0.0</td>\n",
       "      <td>0.138312</td>\n",
       "      <td>0.0</td>\n",
       "      <td>0.000000</td>\n",
       "      <td>0.409009</td>\n",
       "      <td>0.0</td>\n",
       "      <td>0.000000</td>\n",
       "    </tr>\n",
       "    <tr>\n",
       "      <th>...</th>\n",
       "      <td>...</td>\n",
       "      <td>...</td>\n",
       "      <td>...</td>\n",
       "      <td>...</td>\n",
       "      <td>...</td>\n",
       "      <td>...</td>\n",
       "      <td>...</td>\n",
       "      <td>...</td>\n",
       "      <td>...</td>\n",
       "      <td>...</td>\n",
       "      <td>...</td>\n",
       "      <td>...</td>\n",
       "      <td>...</td>\n",
       "      <td>...</td>\n",
       "      <td>...</td>\n",
       "      <td>...</td>\n",
       "      <td>...</td>\n",
       "      <td>...</td>\n",
       "      <td>...</td>\n",
       "      <td>...</td>\n",
       "      <td>...</td>\n",
       "    </tr>\n",
       "    <tr>\n",
       "      <th>5221</th>\n",
       "      <td>0.000000</td>\n",
       "      <td>0.0</td>\n",
       "      <td>0.000000</td>\n",
       "      <td>0.514196</td>\n",
       "      <td>0.0</td>\n",
       "      <td>0.000000</td>\n",
       "      <td>0.000000</td>\n",
       "      <td>0.261063</td>\n",
       "      <td>0.000000</td>\n",
       "      <td>0.000000</td>\n",
       "      <td>...</td>\n",
       "      <td>0.177095</td>\n",
       "      <td>0.000000</td>\n",
       "      <td>0.000000</td>\n",
       "      <td>0.0</td>\n",
       "      <td>0.000000</td>\n",
       "      <td>0.0</td>\n",
       "      <td>0.000000</td>\n",
       "      <td>0.000000</td>\n",
       "      <td>0.0</td>\n",
       "      <td>0.000000</td>\n",
       "    </tr>\n",
       "    <tr>\n",
       "      <th>5222</th>\n",
       "      <td>0.000000</td>\n",
       "      <td>0.0</td>\n",
       "      <td>0.000000</td>\n",
       "      <td>0.000000</td>\n",
       "      <td>0.0</td>\n",
       "      <td>0.000000</td>\n",
       "      <td>0.000000</td>\n",
       "      <td>0.000000</td>\n",
       "      <td>0.000000</td>\n",
       "      <td>0.000000</td>\n",
       "      <td>...</td>\n",
       "      <td>0.000000</td>\n",
       "      <td>0.000000</td>\n",
       "      <td>0.000000</td>\n",
       "      <td>0.0</td>\n",
       "      <td>0.000000</td>\n",
       "      <td>0.0</td>\n",
       "      <td>0.000000</td>\n",
       "      <td>0.000000</td>\n",
       "      <td>0.0</td>\n",
       "      <td>0.000000</td>\n",
       "    </tr>\n",
       "    <tr>\n",
       "      <th>5223</th>\n",
       "      <td>0.000000</td>\n",
       "      <td>0.0</td>\n",
       "      <td>0.388692</td>\n",
       "      <td>0.000000</td>\n",
       "      <td>0.0</td>\n",
       "      <td>0.000000</td>\n",
       "      <td>0.253404</td>\n",
       "      <td>0.000000</td>\n",
       "      <td>0.000000</td>\n",
       "      <td>0.000000</td>\n",
       "      <td>...</td>\n",
       "      <td>0.198865</td>\n",
       "      <td>0.000000</td>\n",
       "      <td>0.000000</td>\n",
       "      <td>0.0</td>\n",
       "      <td>0.267042</td>\n",
       "      <td>0.0</td>\n",
       "      <td>0.416431</td>\n",
       "      <td>0.000000</td>\n",
       "      <td>0.0</td>\n",
       "      <td>0.000000</td>\n",
       "    </tr>\n",
       "    <tr>\n",
       "      <th>5224</th>\n",
       "      <td>0.000000</td>\n",
       "      <td>0.0</td>\n",
       "      <td>0.000000</td>\n",
       "      <td>0.000000</td>\n",
       "      <td>0.0</td>\n",
       "      <td>0.000000</td>\n",
       "      <td>0.244649</td>\n",
       "      <td>0.000000</td>\n",
       "      <td>0.000000</td>\n",
       "      <td>0.000000</td>\n",
       "      <td>...</td>\n",
       "      <td>0.000000</td>\n",
       "      <td>0.000000</td>\n",
       "      <td>0.186361</td>\n",
       "      <td>0.0</td>\n",
       "      <td>0.000000</td>\n",
       "      <td>0.0</td>\n",
       "      <td>0.000000</td>\n",
       "      <td>0.000000</td>\n",
       "      <td>0.0</td>\n",
       "      <td>0.000000</td>\n",
       "    </tr>\n",
       "    <tr>\n",
       "      <th>5225</th>\n",
       "      <td>0.585847</td>\n",
       "      <td>0.0</td>\n",
       "      <td>0.000000</td>\n",
       "      <td>0.000000</td>\n",
       "      <td>0.0</td>\n",
       "      <td>0.000000</td>\n",
       "      <td>0.000000</td>\n",
       "      <td>0.000000</td>\n",
       "      <td>0.000000</td>\n",
       "      <td>0.000000</td>\n",
       "      <td>...</td>\n",
       "      <td>0.375563</td>\n",
       "      <td>0.000000</td>\n",
       "      <td>0.000000</td>\n",
       "      <td>0.0</td>\n",
       "      <td>0.000000</td>\n",
       "      <td>0.0</td>\n",
       "      <td>0.000000</td>\n",
       "      <td>0.000000</td>\n",
       "      <td>0.0</td>\n",
       "      <td>0.000000</td>\n",
       "    </tr>\n",
       "  </tbody>\n",
       "</table>\n",
       "<p>5226 rows × 100 columns</p>\n",
       "</div>"
      ],
      "text/plain": [
       "       activar  actualización     ahora        al  alta  aplicación       app  \\\n",
       "0     0.000000            0.0  0.000000  0.250500   0.0    0.000000  0.000000   \n",
       "1     0.000000            0.0  0.000000  0.000000   0.0    0.000000  0.000000   \n",
       "2     0.000000            0.0  0.000000  0.000000   0.0    0.000000  0.000000   \n",
       "3     0.000000            0.0  0.000000  0.000000   0.0    0.139164  0.000000   \n",
       "4     0.000000            0.0  0.000000  0.000000   0.0    0.133383  0.131248   \n",
       "...        ...            ...       ...       ...   ...         ...       ...   \n",
       "5221  0.000000            0.0  0.000000  0.514196   0.0    0.000000  0.000000   \n",
       "5222  0.000000            0.0  0.000000  0.000000   0.0    0.000000  0.000000   \n",
       "5223  0.000000            0.0  0.388692  0.000000   0.0    0.000000  0.253404   \n",
       "5224  0.000000            0.0  0.000000  0.000000   0.0    0.000000  0.244649   \n",
       "5225  0.585847            0.0  0.000000  0.000000   0.0    0.000000  0.000000   \n",
       "\n",
       "         banco    bancos      bien  ...     token  transferencia  \\\n",
       "0     0.000000  0.000000  0.317013  ...  0.000000       0.000000   \n",
       "1     0.000000  0.000000  0.000000  ...  0.000000       0.000000   \n",
       "2     0.000000  0.000000  0.000000  ...  0.000000       0.000000   \n",
       "3     0.000000  0.189641  0.000000  ...  0.000000       0.000000   \n",
       "4     0.000000  0.000000  0.000000  ...  0.000000       0.131574   \n",
       "...        ...       ...       ...  ...       ...            ...   \n",
       "5221  0.261063  0.000000  0.000000  ...  0.177095       0.000000   \n",
       "5222  0.000000  0.000000  0.000000  ...  0.000000       0.000000   \n",
       "5223  0.000000  0.000000  0.000000  ...  0.198865       0.000000   \n",
       "5224  0.000000  0.000000  0.000000  ...  0.000000       0.000000   \n",
       "5225  0.000000  0.000000  0.000000  ...  0.375563       0.000000   \n",
       "\n",
       "      transferencias  transferir        un  una      usar     veces  vez  \\\n",
       "0           0.167488         0.0  0.000000  0.0  0.000000  0.000000  0.0   \n",
       "1           0.283770         0.0  0.000000  0.0  0.000000  0.000000  0.0   \n",
       "2           0.317976         0.0  0.000000  0.0  0.000000  0.000000  0.0   \n",
       "3           0.208623         0.0  0.288613  0.0  0.000000  0.000000  0.0   \n",
       "4           0.199957         0.0  0.138312  0.0  0.000000  0.409009  0.0   \n",
       "...              ...         ...       ...  ...       ...       ...  ...   \n",
       "5221        0.000000         0.0  0.000000  0.0  0.000000  0.000000  0.0   \n",
       "5222        0.000000         0.0  0.000000  0.0  0.000000  0.000000  0.0   \n",
       "5223        0.000000         0.0  0.267042  0.0  0.416431  0.000000  0.0   \n",
       "5224        0.186361         0.0  0.000000  0.0  0.000000  0.000000  0.0   \n",
       "5225        0.000000         0.0  0.000000  0.0  0.000000  0.000000  0.0   \n",
       "\n",
       "            ya  \n",
       "0     0.000000  \n",
       "1     0.428812  \n",
       "2     0.000000  \n",
       "3     0.157627  \n",
       "4     0.000000  \n",
       "...        ...  \n",
       "5221  0.000000  \n",
       "5222  0.000000  \n",
       "5223  0.000000  \n",
       "5224  0.000000  \n",
       "5225  0.000000  \n",
       "\n",
       "[5226 rows x 100 columns]"
      ]
     },
     "execution_count": 159,
     "metadata": {},
     "output_type": "execute_result"
    }
   ],
   "source": [
    "xt_tfid"
   ]
  },
  {
   "cell_type": "code",
   "execution_count": null,
   "metadata": {},
   "outputs": [],
   "source": []
  },
  {
   "cell_type": "code",
   "execution_count": null,
   "metadata": {},
   "outputs": [],
   "source": []
  },
  {
   "cell_type": "code",
   "execution_count": 185,
   "metadata": {
    "ExecuteTime": {
     "end_time": "2022-03-29T04:48:33.857744Z",
     "start_time": "2022-03-29T04:48:33.845430Z"
    }
   },
   "outputs": [
    {
     "data": {
      "text/plain": [
       "'Que paso con la app, al abrir se cierra después de unos segundos, nunca me había pasado, arreglen eso por favor ya que hay muchos que usamos la app casi a diario, aparte es un show para hacer transferencias o comprar tiempo aire, se que es mas seguro en la forma como lo hacen pero no sirve de nada si es demasiado tardado o no se puede, siempre opto por usar otra app o así, estaría bien que cambiaran eso, es muy tedioso la verdad.'"
      ]
     },
     "execution_count": 185,
     "metadata": {},
     "output_type": "execute_result"
    }
   ],
   "source": [
    "data[\"content\"].values[0]"
   ]
  },
  {
   "cell_type": "code",
   "execution_count": null,
   "metadata": {},
   "outputs": [],
   "source": []
  }
 ],
 "metadata": {
  "kernelspec": {
   "display_name": "Python 3",
   "language": "python",
   "name": "python3"
  },
  "language_info": {
   "codemirror_mode": {
    "name": "ipython",
    "version": 3
   },
   "file_extension": ".py",
   "mimetype": "text/x-python",
   "name": "python",
   "nbconvert_exporter": "python",
   "pygments_lexer": "ipython3",
   "version": "3.8.5"
  },
  "latex_envs": {
   "LaTeX_envs_menu_present": true,
   "autoclose": false,
   "autocomplete": true,
   "bibliofile": "biblio.bib",
   "cite_by": "apalike",
   "current_citInitial": 1,
   "eqLabelWithNumbers": true,
   "eqNumInitial": 1,
   "hotkeys": {
    "equation": "Ctrl-E",
    "itemize": "Ctrl-I"
   },
   "labels_anchors": false,
   "latex_user_defs": false,
   "report_style_numbering": false,
   "user_envs_cfg": false
  },
  "toc": {
   "base_numbering": 1,
   "nav_menu": {},
   "number_sections": true,
   "sideBar": true,
   "skip_h1_title": false,
   "title_cell": "Table of Contents",
   "title_sidebar": "Contents",
   "toc_cell": true,
   "toc_position": {},
   "toc_section_display": true,
   "toc_window_display": false
  },
  "varInspector": {
   "cols": {
    "lenName": 16,
    "lenType": 16,
    "lenVar": 40
   },
   "kernels_config": {
    "python": {
     "delete_cmd_postfix": "",
     "delete_cmd_prefix": "del ",
     "library": "var_list.py",
     "varRefreshCmd": "print(var_dic_list())"
    },
    "r": {
     "delete_cmd_postfix": ") ",
     "delete_cmd_prefix": "rm(",
     "library": "var_list.r",
     "varRefreshCmd": "cat(var_dic_list()) "
    }
   },
   "types_to_exclude": [
    "module",
    "function",
    "builtin_function_or_method",
    "instance",
    "_Feature"
   ],
   "window_display": false
  }
 },
 "nbformat": 4,
 "nbformat_minor": 4
}
